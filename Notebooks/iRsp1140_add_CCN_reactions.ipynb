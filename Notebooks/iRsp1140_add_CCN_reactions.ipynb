{
 "cells": [
  {
   "cell_type": "code",
   "execution_count": 2,
   "metadata": {},
   "outputs": [],
   "source": [
    "import cobra"
   ]
  },
  {
   "cell_type": "code",
   "execution_count": 3,
   "metadata": {},
   "outputs": [],
   "source": [
    "model = cobra.io.read_sbml_model('../GEMS/model_compartment_cleaned.xml')"
   ]
  },
  {
   "cell_type": "code",
   "execution_count": 4,
   "metadata": {},
   "outputs": [
    {
     "data": {
      "text/html": [
       "<strong><em>Optimal</em> solution with objective value 122.059</strong><br><div>\n",
       "<style scoped>\n",
       "    .dataframe tbody tr th:only-of-type {\n",
       "        vertical-align: middle;\n",
       "    }\n",
       "\n",
       "    .dataframe tbody tr th {\n",
       "        vertical-align: top;\n",
       "    }\n",
       "\n",
       "    .dataframe thead th {\n",
       "        text-align: right;\n",
       "    }\n",
       "</style>\n",
       "<table border=\"1\" class=\"dataframe\">\n",
       "  <thead>\n",
       "    <tr style=\"text-align: right;\">\n",
       "      <th></th>\n",
       "      <th>fluxes</th>\n",
       "      <th>reduced_costs</th>\n",
       "    </tr>\n",
       "  </thead>\n",
       "  <tbody>\n",
       "    <tr>\n",
       "      <th>RXN0001_c</th>\n",
       "      <td>-298.604625</td>\n",
       "      <td>9.926868e-19</td>\n",
       "    </tr>\n",
       "    <tr>\n",
       "      <th>RXN0002_c</th>\n",
       "      <td>0.000000</td>\n",
       "      <td>-1.111147e-03</td>\n",
       "    </tr>\n",
       "    <tr>\n",
       "      <th>RXN0003_c</th>\n",
       "      <td>-1000.000000</td>\n",
       "      <td>-1.206389e-02</td>\n",
       "    </tr>\n",
       "    <tr>\n",
       "      <th>RXN0005_c</th>\n",
       "      <td>4.195156</td>\n",
       "      <td>0.000000e+00</td>\n",
       "    </tr>\n",
       "    <tr>\n",
       "      <th>RXN0006_c</th>\n",
       "      <td>0.000000</td>\n",
       "      <td>-4.656237e-03</td>\n",
       "    </tr>\n",
       "    <tr>\n",
       "      <th>...</th>\n",
       "      <td>...</td>\n",
       "      <td>...</td>\n",
       "    </tr>\n",
       "    <tr>\n",
       "      <th>EX_thrp_e</th>\n",
       "      <td>0.000000</td>\n",
       "      <td>-0.000000e+00</td>\n",
       "    </tr>\n",
       "    <tr>\n",
       "      <th>EX_3ump_e</th>\n",
       "      <td>0.000000</td>\n",
       "      <td>-0.000000e+00</td>\n",
       "    </tr>\n",
       "    <tr>\n",
       "      <th>EX_tyrp_e</th>\n",
       "      <td>0.000000</td>\n",
       "      <td>-0.000000e+00</td>\n",
       "    </tr>\n",
       "    <tr>\n",
       "      <th>EX_minohp_e</th>\n",
       "      <td>0.000000</td>\n",
       "      <td>0.000000e+00</td>\n",
       "    </tr>\n",
       "    <tr>\n",
       "      <th>EX_etoh_e</th>\n",
       "      <td>0.000000</td>\n",
       "      <td>-0.000000e+00</td>\n",
       "    </tr>\n",
       "  </tbody>\n",
       "</table>\n",
       "<p>1773 rows × 2 columns</p>\n",
       "</div>"
      ],
      "text/plain": [
       "<Solution 122.059 at 0x247127f9b20>"
      ]
     },
     "execution_count": 4,
     "metadata": {},
     "output_type": "execute_result"
    }
   ],
   "source": [
    "model.optimize()"
   ]
  },
  {
   "cell_type": "code",
   "execution_count": 6,
   "metadata": {},
   "outputs": [
    {
     "name": "stdout",
     "output_type": "stream",
     "text": [
      "1773\n"
     ]
    }
   ],
   "source": [
    "#familiarize with model summary\n",
    "print(len(model.reactions))"
   ]
  },
  {
   "cell_type": "code",
   "execution_count": 10,
   "metadata": {},
   "outputs": [
    {
     "ename": "ModuleNotFoundError",
     "evalue": "No module named 'carveme'",
     "output_type": "error",
     "traceback": [
      "\u001b[1;31m---------------------------------------------------------------------------\u001b[0m",
      "\u001b[1;31mModuleNotFoundError\u001b[0m                       Traceback (most recent call last)",
      "Cell \u001b[1;32mIn[10], line 1\u001b[0m\n\u001b[1;32m----> 1\u001b[0m \u001b[38;5;28;01mimport\u001b[39;00m\u001b[38;5;250m \u001b[39m\u001b[38;5;21;01mcarveme\u001b[39;00m\n\u001b[0;32m      2\u001b[0m \u001b[38;5;28mdir\u001b[39m(carveme)\n\u001b[0;32m      3\u001b[0m carveme\u001b[38;5;241m.\u001b[39m__version__\n",
      "\u001b[1;31mModuleNotFoundError\u001b[0m: No module named 'carveme'"
     ]
    }
   ],
   "source": [
    "import carveme\n",
    "dir(carveme)\n",
    "carveme.__version__"
   ]
  },
  {
   "cell_type": "markdown",
   "metadata": {},
   "source": [
    "# OPTIMIZING MODEL\n"
   ]
  },
  {
   "cell_type": "code",
   "execution_count": 5,
   "metadata": {},
   "outputs": [
    {
     "data": {
      "text/html": [
       "<strong><em>Optimal</em> solution with objective value 122.059</strong><br><div>\n",
       "<style scoped>\n",
       "    .dataframe tbody tr th:only-of-type {\n",
       "        vertical-align: middle;\n",
       "    }\n",
       "\n",
       "    .dataframe tbody tr th {\n",
       "        vertical-align: top;\n",
       "    }\n",
       "\n",
       "    .dataframe thead th {\n",
       "        text-align: right;\n",
       "    }\n",
       "</style>\n",
       "<table border=\"1\" class=\"dataframe\">\n",
       "  <thead>\n",
       "    <tr style=\"text-align: right;\">\n",
       "      <th></th>\n",
       "      <th>fluxes</th>\n",
       "      <th>reduced_costs</th>\n",
       "    </tr>\n",
       "  </thead>\n",
       "  <tbody>\n",
       "    <tr>\n",
       "      <th>RXN0001_c</th>\n",
       "      <td>-298.604625</td>\n",
       "      <td>9.926868e-19</td>\n",
       "    </tr>\n",
       "    <tr>\n",
       "      <th>RXN0002_c</th>\n",
       "      <td>0.000000</td>\n",
       "      <td>-1.111147e-03</td>\n",
       "    </tr>\n",
       "    <tr>\n",
       "      <th>RXN0003_c</th>\n",
       "      <td>-1000.000000</td>\n",
       "      <td>-1.206389e-02</td>\n",
       "    </tr>\n",
       "    <tr>\n",
       "      <th>RXN0005_c</th>\n",
       "      <td>4.195156</td>\n",
       "      <td>0.000000e+00</td>\n",
       "    </tr>\n",
       "    <tr>\n",
       "      <th>RXN0006_c</th>\n",
       "      <td>0.000000</td>\n",
       "      <td>-4.656237e-03</td>\n",
       "    </tr>\n",
       "    <tr>\n",
       "      <th>...</th>\n",
       "      <td>...</td>\n",
       "      <td>...</td>\n",
       "    </tr>\n",
       "    <tr>\n",
       "      <th>EX_thrp_e</th>\n",
       "      <td>0.000000</td>\n",
       "      <td>-0.000000e+00</td>\n",
       "    </tr>\n",
       "    <tr>\n",
       "      <th>EX_3ump_e</th>\n",
       "      <td>0.000000</td>\n",
       "      <td>-0.000000e+00</td>\n",
       "    </tr>\n",
       "    <tr>\n",
       "      <th>EX_tyrp_e</th>\n",
       "      <td>0.000000</td>\n",
       "      <td>-0.000000e+00</td>\n",
       "    </tr>\n",
       "    <tr>\n",
       "      <th>EX_minohp_e</th>\n",
       "      <td>0.000000</td>\n",
       "      <td>0.000000e+00</td>\n",
       "    </tr>\n",
       "    <tr>\n",
       "      <th>EX_etoh_e</th>\n",
       "      <td>0.000000</td>\n",
       "      <td>-0.000000e+00</td>\n",
       "    </tr>\n",
       "  </tbody>\n",
       "</table>\n",
       "<p>1773 rows × 2 columns</p>\n",
       "</div>"
      ],
      "text/plain": [
       "<Solution 122.059 at 0x247127f9eb0>"
      ]
     },
     "execution_count": 5,
     "metadata": {},
     "output_type": "execute_result"
    }
   ],
   "source": [
    "from cobra.io import load_model\n",
    "from cobra.flux_analysis import gapfill\n",
    "model = cobra.io.read_sbml_model('../GEMs/model_compartment_cleaned.xml')\n",
    "model.optimize()"
   ]
  },
  {
   "cell_type": "code",
   "execution_count": 12,
   "metadata": {},
   "outputs": [],
   "source": [
    "def get_metabolite_from_exchange_rxn(model, exchange_rxn_id):\n",
    "    met = list(model.reactions.get_by_id(exchange_rxn_id).metabolites)[0]\n",
    "    return met\n",
    "\n",
    "def test_get_metabolite_from_exchange_rxn():\n",
    "    model = cobra.io.read_sbml_model('../GEMs/model_compartment_cleaned.xml')\n",
    "    met = get_metabolite_from_exchange_rxn(model, 'EX_cpd00051_e')\n",
    "    assert met.id == 'arg-L_e'\n",
    "\n",
    "test_get_metabolite_from_exchange_rxn()"
   ]
  },
  {
   "cell_type": "code",
   "execution_count": 13,
   "metadata": {},
   "outputs": [],
   "source": [
    "import pandas as pd\n",
    "\n",
    "def create_media_db(model, medium_name, medium_description):\n",
    "    \"\"\"creates a media database for a model.\n",
    "    The library must be a tab-separated file with four columns:\n",
    "\n",
    "medium: short id to be passed in command line (example: X)\n",
    "\n",
    "description: description of the medium (optional, example: Our magic X formula)\n",
    "\n",
    "compound: compound id (example: glc). Note: the id must be the BiGG id without the compartment suffix.\n",
    "    id.rsplit('_', 1)[0] was included to remove compartment suffix.\n",
    "\n",
    "name: compound name (optional, example: Glucose)\n",
    "\n",
    "Please note that, at this moment, CarveMe only supports metabolite ids from the BiGG database.\n",
    "\n",
    "    Args: model (cobra.Model): a model\n",
    "    medium_name (str): the name of the medium\n",
    "    medium_description (str): the description of the medium\n",
    "    Returns: a media database\n",
    "    \n",
    "    \"\"\"\n",
    "    media_db = pd.DataFrame(columns=['medium', 'description', 'compound', 'name'])\n",
    "    #id.rsplit('_', 1)[0] was included to remove compartment suffix.\n",
    "    media_db['compound'] = pd.Series([get_metabolite_from_exchange_rxn(model, rxn).id.rsplit('_', 1)[0] for rxn in model.medium])\n",
    "    media_db['name'] = pd.Series([get_metabolite_from_exchange_rxn(model, rxn).name for rxn in model.medium])\n",
    "    media_db['medium'] = medium_name\n",
    "    media_db['description'] = medium_description\n",
    "    \n",
    "\n",
    "    return media_db\n",
    "\n",
    "media_db = create_media_db(model, 'Base', 'Rhodobacter sphaeroides base medium')\n",
    "media_db.to_csv(\"../rhodobacter/data/media/default_media_db.tsv\", sep='\\t', index=False)\n"
   ]
  },
  {
   "cell_type": "code",
   "execution_count": 4,
   "metadata": {},
   "outputs": [
    {
     "data": {
      "text/html": [
       "\n",
       "        <table>\n",
       "            <tr>\n",
       "                <td><strong>Reaction identifier</strong></td><td>EX_cpd00051_e</td>\n",
       "            </tr><tr>\n",
       "                <td><strong>Name</strong></td><td>EX_L_Arginine_e0</td>\n",
       "            </tr><tr>\n",
       "                <td><strong>Memory address</strong></td>\n",
       "                <td>0x23fa04ac9e0</td>\n",
       "            </tr><tr>\n",
       "                <td><strong>Stoichiometry</strong></td>\n",
       "                <td>\n",
       "                    <p style='text-align:right'>arg-L_e <=></p>\n",
       "                    <p style='text-align:right'>L_Arginine_e <=></p>\n",
       "                </td>\n",
       "            </tr><tr>\n",
       "                <td><strong>GPR</strong></td><td></td>\n",
       "            </tr><tr>\n",
       "                <td><strong>Lower bound</strong></td><td>-1000.0</td>\n",
       "            </tr><tr>\n",
       "                <td><strong>Upper bound</strong></td><td>1000.0</td>\n",
       "            </tr>\n",
       "        </table>\n",
       "        "
      ],
      "text/plain": [
       "<Reaction EX_cpd00051_e at 0x23fa04ac9e0>"
      ]
     },
     "execution_count": 4,
     "metadata": {},
     "output_type": "execute_result"
    }
   ],
   "source": [
    "model.reactions.get_by_id('EX_cpd00051_e')"
   ]
  },
  {
   "cell_type": "code",
   "execution_count": 5,
   "metadata": {},
   "outputs": [
    {
     "data": {
      "text/plain": [
       "'cpd00051'"
      ]
     },
     "execution_count": 5,
     "metadata": {},
     "output_type": "execute_result"
    }
   ],
   "source": [
    "cpd = 'EX_cpd00051_e'\n",
    "cpd.split('_')[1]"
   ]
  },
  {
   "cell_type": "code",
   "execution_count": 6,
   "metadata": {},
   "outputs": [
    {
     "data": {
      "text/plain": [
       "{'EX_cpd00051_e': 1000.0,\n",
       " 'EX_cpd00119_e': 1000.0,\n",
       " 'EX_cpd00039_e': 1000.0,\n",
       " 'EX_cpd00084_e': 1000.0,\n",
       " 'EX_cpd00053_e': 1000.0,\n",
       " 'EX_cpd00107_e': 1000.0,\n",
       " 'EX_cpd00322_e': 1000.0,\n",
       " 'EX_cpd00156_e': 1000.0,\n",
       " 'EX_cpd00060_e': 1000.0,\n",
       " 'EX_cpd00731_e': 1000.0,\n",
       " 'EX_cpd00042_e': 1000.0,\n",
       " 'EX_cpd00111_e': 1000.0,\n",
       " 'EX_cpd00166_e': 1000.0,\n",
       " 'EX_cpd00058_e': 1000.0,\n",
       " 'EX_cpd00034_e': 1000.0,\n",
       " 'EX_cpd00030_e': 1000.0,\n",
       " 'EX_cpd10515_e': 1000.0,\n",
       " 'EX_cpd00149_e': 1000.0,\n",
       " 'EX_cpd00028_e': 1000.0,\n",
       " 'EX_cpd00268_e': 1000.0,\n",
       " 'EX_cpd00048_e': 1000.0,\n",
       " 'EX_cpd11574_e': 1000.0,\n",
       " 'EX_cpd00118_e': 1000.0,\n",
       " 'EX_cpd00264_e': 1000.0,\n",
       " 'EX_cpd00540_e': 1000.0,\n",
       " 'EX_cpd00129_e': 1000.0,\n",
       " 'EX_cpd00098_e': 1000.0,\n",
       " 'EX_cpd00179_e': 1000.0,\n",
       " 'EX_cpd00588_e': 1000.0,\n",
       " 'EX_cpd00314_e': 1000.0,\n",
       " 'EX_cpd00100_e': 1000.0,\n",
       " 'EX_cpd00105_e': 1000.0,\n",
       " 'EX_cpd00154_e': 1000.0,\n",
       " 'EX_cpd00082_e': 1000.0,\n",
       " 'EX_cpd00009_e': 1000.0,\n",
       " 'EX_cpd00023_e': 1000.0,\n",
       " 'EX_cpd00041_e': 1000.0,\n",
       " 'EX_cpd00132_e': 1000.0,\n",
       " 'EX_cpd00001_e': 1000.0,\n",
       " 'EX_cpd00013_e': 1000.0,\n",
       " 'EX_cpd00971_e': 1000.0,\n",
       " 'EX_cpd00063_e': 1000.0,\n",
       " 'EX_cpd00011_e': 1000.0,\n",
       " 'EX_cpd00007_e': 1000.0,\n",
       " 'EX_cpd00036_e': 1000.0,\n",
       " 'EX_cpd00130_e': 1000.0,\n",
       " 'EX_cpd00106_e': 1000.0,\n",
       " 'EX_cpd00020_e': 1000.0,\n",
       " 'EX_cpd00094_e': 1000.0,\n",
       " 'EX_cpd03737_e': 1000.0,\n",
       " 'EX_cpd00989_e': 1000.0,\n",
       " 'EX_cpd03701_e': 1000.0,\n",
       " 'EX_cpd03454_e': 1000.0,\n",
       " 'EX_cpd00117_e': 1000.0,\n",
       " 'EX_cpd00035_e': 1000.0,\n",
       " 'EX_cpd00033_e': 1000.0,\n",
       " 'EX_cpd00138_e': 1000.0,\n",
       " 'EX_cpd15387_e': 1000.0,\n",
       " 'EX_cpd00305_e': 1000.0,\n",
       " 'EX_cpd10516_e': 1000.0,\n",
       " 'EX_cpd00080_e': 1000.0,\n",
       " 'EX_cpd00244_e': 1000.0,\n",
       " 'EX_cpd00027_e': 1000.0,\n",
       " 'EX_cpd00029_e': 1000.0,\n",
       " 'EX_cpd00066_e': 1000.0,\n",
       " 'EX_cpd00065_e': 1000.0,\n",
       " 'EX_cpd00054_e': 1000.0,\n",
       " 'EX_cpd00040_e': 1000.0,\n",
       " 'EX_cpd00047_e': 1000.0,\n",
       " 'EX_cpd00055_e': 1000.0,\n",
       " 'EX_cpd00073_e': 1000.0,\n",
       " 'EX_cpd00085_e': 1000.0,\n",
       " 'EX_cpd00092_e': 1000.0,\n",
       " 'EX_cpd00307_e': 1000.0,\n",
       " 'EX_cpd00153_e': 1000.0,\n",
       " 'EX_cpd00221_e': 1000.0,\n",
       " 'EX_cpd00159_e': 1000.0,\n",
       " 'EX_cpd00386_e': 1000.0,\n",
       " 'EX_cpd00254_e': 1000.0,\n",
       " 'EX_cpd00222_e': 1000.0,\n",
       " 'EX_cpd00164_e': 1000.0,\n",
       " 'EX_cpd00205_e': 1000.0,\n",
       " 'EX_cpd00128_e': 1000.0,\n",
       " 'EX_cpd00151_e': 1000.0,\n",
       " 'EX_cpd00207_e': 1000.0,\n",
       " 'EX_cpd00220_e': 1000.0,\n",
       " 'EX_cpd00226_e': 1000.0,\n",
       " 'EX_cpd00309_e': 1000.0,\n",
       " 'EX_cpd00337_e': 1000.0,\n",
       " 'EX_cpd03422_e': 1000.0,\n",
       " 'EX_cpd00210_e': 1000.0,\n",
       " 'EX_cpd00223_e': 1000.0,\n",
       " 'EX_cpd00363_e': 1000.0,\n",
       " 'EX_cpd11640_e': 1000.0,\n",
       " 'EX_cpd01526_e': 1000.0,\n",
       " 'EX_cpd00075_e': 1000.0,\n",
       " 'EX_cpd00209_e': 1000.0,\n",
       " 'EX_cpd00528_e': 1000.0,\n",
       " 'EX_cpd00141_e': 1000.0,\n",
       " 'EX_cpd01307_e': 1000.0,\n",
       " 'EX_cpd00395_e': 1000.0,\n",
       " 'EX_cpd00320_e': 1000.0,\n",
       " 'EX_cpd01570_e': 1000.0,\n",
       " 'EX_cpd01572_e': 1000.0,\n",
       " 'EX_cpd03702_e': 1000.0,\n",
       " 'EX_cpd00457_e': 1000.0,\n",
       " 'EX_cpd00366_e': 1000.0,\n",
       " 'EX_cpd00139_e': 1000.0,\n",
       " 'EX_cpd00024_e': 1000.0,\n",
       " 'EX_cpd00830_e': 1000.0,\n",
       " 'EX_cpd00608_e': 1000.0,\n",
       " 'EX_cpd01017_e': 1000.0,\n",
       " 'EX_cpd01114_e': 1000.0,\n",
       " 'EX_cpd01157_e': 1000.0,\n",
       " 'EX_cpd02547_e': 1000.0,\n",
       " 'EX_cpd01700_e': 1000.0,\n",
       " 'EX_cpd00169_e': 1000.0,\n",
       " 'EX_cpd00239_e': 1000.0,\n",
       " 'EX_cpd00104_e': 1000.0,\n",
       " 'EX_cpd00218_e': 1000.0,\n",
       " 'EX_cpd31000_e': 1000.0,\n",
       " 'EX_cpd08021_e': 1000.0,\n",
       " 'EX_cpd00450_e': 1000.0,\n",
       " 'EX_cpd00116_e': 1000.0,\n",
       " 'EX_cpd00147_e': 1000.0,\n",
       " 'EX_cpd00229_e': 1000.0,\n",
       " 'EX_cpd00324_e': 1000.0,\n",
       " 'EX_cpd00432_e': 1000.0,\n",
       " 'EX_cpd00604_e': 1000.0,\n",
       " 'EX_cpd01078_e': 1000.0,\n",
       " 'EX_cpd01587_e': 1000.0,\n",
       " 'EX_cpd04122_e': 1000.0,\n",
       " 'EX_cpd00162_e': 1000.0,\n",
       " 'EX_cpd01311_e': 1000.0,\n",
       " 'EX_cpd03091_e': 1000.0,\n",
       " 'EX_cpd00067_e': 1000.0,\n",
       " 'EX_cpd03285_e': 1000.0,\n",
       " 'EX_cpd00434_e': 1000.0,\n",
       " 'EX_cpd00567_e': 1000.0,\n",
       " 'EX_cpd00081_e': 1000.0,\n",
       " 'EX_cpd03561_e': 1000.0,\n",
       " 'EX_cpd01502_e': 1000.0,\n",
       " 'EX_CPD1278_e': 1000.0,\n",
       " 'EX_cpd01363_e': 1000.0,\n",
       " 'EX_cpd01200_e': 1000.0,\n",
       " 'EX_cpd00666_e': 1000.0,\n",
       " 'EX_cpd00607_e': 1000.0,\n",
       " 'EX_cpd11594_e': 1000.0,\n",
       " 'EX_cpd00489_e': 1000.0,\n",
       " 'EX_cpd00374_e': 1000.0,\n",
       " 'EX_cpd00361_e': 1000.0,\n",
       " 'EX_cpd00339_e': 1000.0,\n",
       " 'EX_cpd00308_e': 1000.0,\n",
       " 'EX_cpd00281_e': 1000.0,\n",
       " 'EX_cpd00280_e': 1000.0,\n",
       " 'EX_cpd00249_e': 1000.0,\n",
       " 'EX_cpd00246_e': 1000.0,\n",
       " 'EX_cpd00184_e': 1000.0,\n",
       " 'EX_cpd00211_e': 1000.0,\n",
       " 'EX_cpd00142_e': 1000.0,\n",
       " 'EX_cpd02042_e': 1000.0,\n",
       " 'EX_cpd00781_e': 1000.0,\n",
       " 'EX_cpd14472_e': 1000.0,\n",
       " 'EX_CPD1344_e': 1000.0,\n",
       " 'EX_cpd11585_e': 1000.0,\n",
       " 'EX_CPD1350_e': 1000.0,\n",
       " 'EX_CPD1353_e': 1000.0,\n",
       " 'EX_CPD1356_e': 1000.0,\n",
       " 'EX_cpd00300_e': 1000.0,\n",
       " 'EX_cpd01217_e': 1000.0,\n",
       " 'EX_cpd00311_e': 1000.0,\n",
       " 'EX_cpd00367_e': 1000.0,\n",
       " 'EX_cpd00122_e': 1000.0,\n",
       " 'EX_cpd00152_e': 1000.0,\n",
       " 'EX_cpd00274_e': 1000.0,\n",
       " 'EX_cpd00186_e': 1000.0,\n",
       " 'EX_cpd00069_e': 1000.0,\n",
       " 'EX_CPD1380_e': 1000.0,\n",
       " 'EX_cpd11591_e': 1000.0,\n",
       " 'EX_CPD1386_e': 1000.0,\n",
       " 'EX_cpd11580_e': 1000.0,\n",
       " 'EX_CPD1392_e': 1000.0,\n",
       " 'EX_CPD1395_e': 1000.0,\n",
       " 'EX_cpd11583_e': 1000.0,\n",
       " 'EX_cpd11584_e': 1000.0,\n",
       " 'EX_CPD1404_e': 1000.0,\n",
       " 'EX_cpd11587_e': 1000.0,\n",
       " 'EX_CPD1410_e': 1000.0,\n",
       " 'EX_CPD1413_e': 1000.0,\n",
       " 'EX_CPD1416_e': 1000.0,\n",
       " 'EX_cpd01092_e': 1000.0,\n",
       " 'EX_cpd00312_e': 1000.0,\n",
       " 'EX_cpd00550_e': 1000.0,\n",
       " 'EX_cpd00549_e': 1000.0,\n",
       " 'EX_cpd01308_e': 1000.0,\n",
       " 'EX_cpd00421_e': 1000.0,\n",
       " 'EX_cpd00012_e': 1000.0,\n",
       " 'EX_cpd00146_e': 1000.0,\n",
       " 'EX_cpd00482_e': 1000.0,\n",
       " 'EX_cpd00126_e': 1000.0,\n",
       " 'EX_cpd00061_e': 1000.0,\n",
       " 'EX_cpd00079_e': 1000.0,\n",
       " 'EX_cpd00288_e': 1000.0,\n",
       " 'EX_cpd00046_e': 1000.0,\n",
       " 'EX_cpd00235_e': 1000.0,\n",
       " 'EX_cpd00738_e': 1000.0,\n",
       " 'EX_cpd00091_e': 1000.0,\n",
       " 'EX_cpd00298_e': 1000.0,\n",
       " 'EX_cpd01622_e': 1000.0,\n",
       " 'EX_cpd01908_e': 1000.0,\n",
       " 'EX_cpd00727_e': 1000.0,\n",
       " 'EX_cpd00284_e': 1000.0,\n",
       " 'EX_cpd00696_e': 1000.0,\n",
       " 'EX_cpd03535_e': 1000.0,\n",
       " 'EX_cpd01665_e': 1000.0,\n",
       " 'EX_cpd03912_e': 1000.0,\n",
       " 'EX_cpd01550_e': 1000.0,\n",
       " 'EX_cpd00285_e': 1000.0,\n",
       " 'EX_cpd00074_e': 1000.0,\n",
       " 'EX_cpd00587_e': 1000.0,\n",
       " 'EX_cpd01414_e': 1000.0,\n",
       " 'EX_cpd03805_e': 1000.0,\n",
       " 'EX_cpd00455_e': 1000.0,\n",
       " 'EX_cpd00155_e': 1000.0,\n",
       " 'EX_cpd00745_e': 1000.0,\n",
       " 'EX_cpd00250_e': 1000.0,\n",
       " 'EX_cpd03385_e': 1000.0,\n",
       " 'EX_cpd08928_e': 1000.0,\n",
       " 'EX_cpd00424_e': 1000.0,\n",
       " 'EX_cpd00637_e': 1000.0,\n",
       " 'EX_cpd00406_e': 1000.0,\n",
       " 'EX_cpd00652_e': 1000.0,\n",
       " 'EX_CPD1524_e': 1000.0,\n",
       " 'EX_tre_e': 1000.0,\n",
       " 'EX_man_e': 1000.0,\n",
       " 'EX_galt_e': 1000.0,\n",
       " 'EX_arab__L_e': 1000.0,\n",
       " 'EX_acgam_e': 1000.0,\n",
       " 'EX_glcr_e': 1000.0,\n",
       " 'EX_succ_e': 1000.0,\n",
       " 'EX_gal_e': 1000.0,\n",
       " 'EX_asp__L_e': 1000.0,\n",
       " 'EX_pro__L_e': 1000.0,\n",
       " 'EX_ala__D_e': 1000.0,\n",
       " 'EX_ser__D_e': 1000.0,\n",
       " 'EX_for_e': 1000.0,\n",
       " 'EX_mnl_e': 1000.0,\n",
       " 'EX_glu__L_e': 1000.0,\n",
       " 'EX_sbt__D_e': 1000.0,\n",
       " 'EX_glyc_e': 1000.0,\n",
       " 'EX_fuc__L_e': 1000.0,\n",
       " 'EX_glcur_e': 1000.0,\n",
       " 'EX_glcn_e': 1000.0,\n",
       " 'EX_glyc3p_e': 1000.0,\n",
       " 'EX_xyl__D_e': 1000.0,\n",
       " 'EX_lac__L_e': 1000.0,\n",
       " 'EX_g6p_e': 1000.0,\n",
       " 'EX_malt_e': 1000.0,\n",
       " 'EX_melib_e': 1000.0,\n",
       " 'EX_thymd_e': 1000.0,\n",
       " 'EX_galctn__D_e': 1000.0,\n",
       " 'EX_rib__D_e': 1000.0,\n",
       " 'EX_rmn_e': 1000.0,\n",
       " 'EX_fru_e': 1000.0,\n",
       " 'EX_ac_e': 1000.0,\n",
       " 'EX_glc__D_e': 1000.0,\n",
       " 'EX_asn__L_e': 1000.0,\n",
       " 'EX_sucr_e': 1000.0,\n",
       " 'EX_uri_e': 1000.0,\n",
       " 'EX_12ppd__S_e': 1000.0,\n",
       " 'EX_akg_e': 1000.0,\n",
       " 'EX_lcts_e': 1000.0,\n",
       " 'EX_gln__L_e': 1000.0,\n",
       " 'EX_malttr_e': 1000.0,\n",
       " 'EX_dad_2_e': 1000.0,\n",
       " 'EX_adn_e': 1000.0,\n",
       " 'EX_g1p_e': 1000.0,\n",
       " 'EX_f6p_e': 1000.0,\n",
       " 'EX_ins_e': 1000.0,\n",
       " 'EX_cit_e': 1000.0,\n",
       " 'EX_inost_e': 1000.0,\n",
       " 'EX_fum_e': 1000.0,\n",
       " 'EX_ppa_e': 1000.0,\n",
       " 'EX_galct__D_e': 1000.0,\n",
       " 'EX_glyclt_e': 1000.0,\n",
       " 'EX_mal__D_e': 1000.0,\n",
       " 'EX_mal__L_e': 1000.0,\n",
       " 'EX_ser__L_e': 1000.0,\n",
       " 'EX_thr__L_e': 1000.0,\n",
       " 'EX_ala__L_e': 1000.0,\n",
       " 'EX_acac_e': 1000.0,\n",
       " 'EX_acmana_e': 1000.0,\n",
       " 'EX_galur_e': 1000.0,\n",
       " 'EX_peamn_e': 1000.0,\n",
       " 'EX_etha_e': 1000.0,\n",
       " 'EX_tym_e': 1000.0,\n",
       " 'EX_lyx__L_e': 1000.0,\n",
       " 'EX_pyr_e': 1000.0,\n",
       " 'EX_galctn__L_e': 1000.0,\n",
       " 'EX_acnam_e': 1000.0,\n",
       " 'EX_all__D_e': 1000.0,\n",
       " 'EX_4abut_e': 1000.0,\n",
       " 'EX_but_e': 1000.0,\n",
       " 'EX_dca_e': 1000.0,\n",
       " 'EX_5dglcn_e': 1000.0,\n",
       " 'EX_hxa_e': 1000.0,\n",
       " 'EX_tartr__L_e': 1000.0,\n",
       " 'EX_leu__L_e': 1000.0,\n",
       " 'EX_lys__L_e': 1000.0,\n",
       " 'EX_met__L_e': 1000.0,\n",
       " 'EX_arg__L_e': 1000.0,\n",
       " 'EX_gly_e': 1000.0,\n",
       " 'EX_his__L_e': 1000.0,\n",
       " 'EX_hom__L_e': 1000.0,\n",
       " 'EX_ile__L_e': 1000.0,\n",
       " 'EX_orn_e': 1000.0,\n",
       " 'EX_phe__L_e': 1000.0,\n",
       " 'EX_val__L_e': 1000.0,\n",
       " 'EX_ptrc_e': 1000.0,\n",
       " 'EX_dha_e': 1000.0,\n",
       " 'EX_cys__L_e': 1000.0,\n",
       " 'EX_nh4_e': 1000.0,\n",
       " 'EX_no2_e': 1000.0,\n",
       " 'EX_no3_e': 1000.0,\n",
       " 'EX_urea_e': 1000.0,\n",
       " 'EX_trp__L_e': 1000.0,\n",
       " 'EX_tyr__L_e': 1000.0,\n",
       " 'EX_agm_e': 1000.0,\n",
       " 'EX_acgal_e': 1000.0,\n",
       " 'EX_gam_e': 1000.0,\n",
       " 'EX_ura_e': 1000.0,\n",
       " 'EX_ade_e': 1000.0,\n",
       " 'EX_cytd_e': 1000.0,\n",
       " 'EX_csn_e': 1000.0,\n",
       " 'EX_gua_e': 1000.0,\n",
       " 'EX_gsn_e': 1000.0,\n",
       " 'EX_thym_e': 1000.0,\n",
       " 'EX_xan_e': 1000.0,\n",
       " 'EX_xtsn_e': 1000.0,\n",
       " 'EX_alltn_e': 1000.0,\n",
       " 'EX_23camp_e': 1000.0,\n",
       " 'EX_pi_e': 1000.0,\n",
       " 'EX_3amp_e': 1000.0,\n",
       " 'EX_gmp_e': 1000.0,\n",
       " 'EX_23cgmp_e': 1000.0,\n",
       " 'EX_3gmp_e': 1000.0,\n",
       " 'EX_cmp_e': 1000.0,\n",
       " 'EX_23ccmp_e': 1000.0,\n",
       " 'EX_gam6p_e': 1000.0,\n",
       " 'EX_3cmp_e': 1000.0,\n",
       " 'EX_ump_e': 1000.0,\n",
       " 'EX_23cump_e': 1000.0,\n",
       " 'EX_man6p_e': 1000.0,\n",
       " 'EX_pser__L_e': 1000.0,\n",
       " 'EX_thrp_e': 1000.0,\n",
       " 'EX_3ump_e': 1000.0,\n",
       " 'EX_tyrp_e': 1000.0,\n",
       " 'EX_minohp_e': 1000.0,\n",
       " 'EX_etoh_e': 1000.0}"
      ]
     },
     "execution_count": 6,
     "metadata": {},
     "output_type": "execute_result"
    }
   ],
   "source": [
    "model.medium"
   ]
  },
  {
   "cell_type": "code",
   "execution_count": 6,
   "metadata": {},
   "outputs": [
    {
     "data": {
      "text/plain": [
       "frozenset({<Reaction RXN0046_c at 0x24712f66450>,\n",
       "           <Reaction RXN0343_c at 0x24713053bf0>,\n",
       "           <Reaction RXN0345_c at 0x24713053e90>,\n",
       "           <Reaction RXN0415_c at 0x2471222e0c0>,\n",
       "           <Reaction RXN0416_c at 0x247122bf530>,\n",
       "           <Reaction RXN0553_c at 0x24713181b20>,\n",
       "           <Reaction RXN0556_c at 0x2471312e930>,\n",
       "           <Reaction RXN0560_c at 0x24713183110>})"
      ]
     },
     "execution_count": 6,
     "metadata": {},
     "output_type": "execute_result"
    }
   ],
   "source": [
    "model.metabolites.f6p_c.reactions"
   ]
  },
  {
   "cell_type": "markdown",
   "metadata": {},
   "source": [
    "# Cobrapy Gapfill below\n",
    "You should have three differnt models:\n",
    "1. original model\n",
    "2. a model with the missing metabolite (gapped)\n",
    "3. Run gapfill to find one/more solutions\n",
    "4. gapfill with one solution\n",
    "5. Test to make sure the gapfilled working model works (model.optimize)\n",
    "6. Save model with metabolite gap filled \n",
    "\n",
    "asssertions to check: \n",
    "1. assert original model grows\n",
    "2. assert that gapped doesn't grow (assert < threshold)\n",
    "3. assert that gapfilled does grow\n",
    "growth = model.optimize().objective_value\n",
    "threshold = 0.2\n",
    "assert growth > threshold, f\"Growth {growth} was not greater than threshold {threshold}\""
   ]
  },
  {
   "cell_type": "code",
   "execution_count": 7,
   "metadata": {},
   "outputs": [],
   "source": [
    "import cobra\n",
    "universal = cobra.Model(\"universal_reactions\") #grabs universal model from cobra\n",
    "for i in [i.id for i in model.metabolites.f6p_c.reactions]: #iterates through all reactions that f6p is involved in F6p metabolites\n",
    "    reaction = model.reactions.get_by_id(i)\n",
    "    universal.add_reactions([reaction.copy()])\n",
    "    model.remove_reactions([reaction]) #adds f6p reactions to universal model and removes them from our working model\n",
    "cobra.io.write_sbml_model(universal, \"../GEMs/f6p_reactions.xml\") #universal model with f6p\n",
    "cobra.io.write_sbml_model(model, \"../GEMs/model_with_f6p_gap.xml\") #model without f6p so should not grow"
   ]
  },
  {
   "cell_type": "code",
   "execution_count": 10,
   "metadata": {},
   "outputs": [
    {
     "data": {
      "text/html": [
       "<strong><em>Optimal</em> solution with objective value 0.000</strong><br><div>\n",
       "<style scoped>\n",
       "    .dataframe tbody tr th:only-of-type {\n",
       "        vertical-align: middle;\n",
       "    }\n",
       "\n",
       "    .dataframe tbody tr th {\n",
       "        vertical-align: top;\n",
       "    }\n",
       "\n",
       "    .dataframe thead th {\n",
       "        text-align: right;\n",
       "    }\n",
       "</style>\n",
       "<table border=\"1\" class=\"dataframe\">\n",
       "  <thead>\n",
       "    <tr style=\"text-align: right;\">\n",
       "      <th></th>\n",
       "      <th>fluxes</th>\n",
       "      <th>reduced_costs</th>\n",
       "    </tr>\n",
       "  </thead>\n",
       "  <tbody>\n",
       "    <tr>\n",
       "      <th>RXN0001_c</th>\n",
       "      <td>0.0</td>\n",
       "      <td>0.0</td>\n",
       "    </tr>\n",
       "    <tr>\n",
       "      <th>RXN0002_c</th>\n",
       "      <td>0.0</td>\n",
       "      <td>0.0</td>\n",
       "    </tr>\n",
       "    <tr>\n",
       "      <th>RXN0003_c</th>\n",
       "      <td>0.0</td>\n",
       "      <td>-0.0</td>\n",
       "    </tr>\n",
       "    <tr>\n",
       "      <th>RXN0005_c</th>\n",
       "      <td>0.0</td>\n",
       "      <td>0.0</td>\n",
       "    </tr>\n",
       "    <tr>\n",
       "      <th>RXN0006_c</th>\n",
       "      <td>0.0</td>\n",
       "      <td>0.0</td>\n",
       "    </tr>\n",
       "    <tr>\n",
       "      <th>...</th>\n",
       "      <td>...</td>\n",
       "      <td>...</td>\n",
       "    </tr>\n",
       "    <tr>\n",
       "      <th>EX_thrp_e</th>\n",
       "      <td>0.0</td>\n",
       "      <td>0.0</td>\n",
       "    </tr>\n",
       "    <tr>\n",
       "      <th>EX_3ump_e</th>\n",
       "      <td>0.0</td>\n",
       "      <td>-0.0</td>\n",
       "    </tr>\n",
       "    <tr>\n",
       "      <th>EX_tyrp_e</th>\n",
       "      <td>0.0</td>\n",
       "      <td>0.0</td>\n",
       "    </tr>\n",
       "    <tr>\n",
       "      <th>EX_minohp_e</th>\n",
       "      <td>0.0</td>\n",
       "      <td>0.0</td>\n",
       "    </tr>\n",
       "    <tr>\n",
       "      <th>EX_etoh_e</th>\n",
       "      <td>0.0</td>\n",
       "      <td>0.0</td>\n",
       "    </tr>\n",
       "  </tbody>\n",
       "</table>\n",
       "<p>1765 rows × 2 columns</p>\n",
       "</div>"
      ],
      "text/plain": [
       "<Solution 0.000 at 0x24714f68380>"
      ]
     },
     "execution_count": 10,
     "metadata": {},
     "output_type": "execute_result"
    }
   ],
   "source": [
    "#test to see if model grows\n",
    "model_with_f6p_gap = cobra.io.read_sbml_model(\"../GEMs/model_with_f6p_gap.xml\")\n",
    "model_with_f6p_gap.optimize()"
   ]
  },
  {
   "cell_type": "code",
   "execution_count": 13,
   "metadata": {},
   "outputs": [
    {
     "name": "stdout",
     "output_type": "stream",
     "text": [
      "RXN0415_c\n",
      "RXN0553_c\n"
     ]
    }
   ],
   "source": [
    "#run gapfill to replace removed metabolite into working model: view reactions to add\n",
    "solutions = gapfill(model_with_f6p_gap, universal, demand_reactions=False)\n",
    "for reaction in solutions[0]:\n",
    "    print(reaction.id)"
   ]
  },
  {
   "cell_type": "code",
   "execution_count": 14,
   "metadata": {},
   "outputs": [],
   "source": [
    "#run gapfill to replace removed metabolite into working model: take first element of solutions and add\n",
    "f6p_gapfilled = model_with_f6p_gap.copy()\n",
    "f6p_gapfilled.add_reactions(solutions[0])\n",
    "cobra.io.write_sbml_model(f6p_gapfilled, \"../GEMs/f6p_gapfilled.xml\")"
   ]
  },
  {
   "cell_type": "code",
   "execution_count": null,
   "metadata": {},
   "outputs": [
    {
     "data": {
      "text/html": [
       "<strong><em>Optimal</em> solution with objective value 117.921</strong><br><div>\n",
       "<style scoped>\n",
       "    .dataframe tbody tr th:only-of-type {\n",
       "        vertical-align: middle;\n",
       "    }\n",
       "\n",
       "    .dataframe tbody tr th {\n",
       "        vertical-align: top;\n",
       "    }\n",
       "\n",
       "    .dataframe thead th {\n",
       "        text-align: right;\n",
       "    }\n",
       "</style>\n",
       "<table border=\"1\" class=\"dataframe\">\n",
       "  <thead>\n",
       "    <tr style=\"text-align: right;\">\n",
       "      <th></th>\n",
       "      <th>fluxes</th>\n",
       "      <th>reduced_costs</th>\n",
       "    </tr>\n",
       "  </thead>\n",
       "  <tbody>\n",
       "    <tr>\n",
       "      <th>RXN0001_c</th>\n",
       "      <td>-418.913387</td>\n",
       "      <td>-1.489030e-18</td>\n",
       "    </tr>\n",
       "    <tr>\n",
       "      <th>RXN0002_c</th>\n",
       "      <td>0.000000</td>\n",
       "      <td>-1.602094e-03</td>\n",
       "    </tr>\n",
       "    <tr>\n",
       "      <th>RXN0003_c</th>\n",
       "      <td>-1000.000000</td>\n",
       "      <td>-1.094764e-02</td>\n",
       "    </tr>\n",
       "    <tr>\n",
       "      <th>RXN0005_c</th>\n",
       "      <td>4.052938</td>\n",
       "      <td>0.000000e+00</td>\n",
       "    </tr>\n",
       "    <tr>\n",
       "      <th>RXN0006_c</th>\n",
       "      <td>0.000000</td>\n",
       "      <td>-1.789005e-02</td>\n",
       "    </tr>\n",
       "    <tr>\n",
       "      <th>...</th>\n",
       "      <td>...</td>\n",
       "      <td>...</td>\n",
       "    </tr>\n",
       "    <tr>\n",
       "      <th>EX_tyrp_e</th>\n",
       "      <td>0.000000</td>\n",
       "      <td>1.999411e-18</td>\n",
       "    </tr>\n",
       "    <tr>\n",
       "      <th>EX_minohp_e</th>\n",
       "      <td>0.000000</td>\n",
       "      <td>0.000000e+00</td>\n",
       "    </tr>\n",
       "    <tr>\n",
       "      <th>EX_etoh_e</th>\n",
       "      <td>0.000000</td>\n",
       "      <td>-0.000000e+00</td>\n",
       "    </tr>\n",
       "    <tr>\n",
       "      <th>RXN0415_c</th>\n",
       "      <td>5.873753</td>\n",
       "      <td>0.000000e+00</td>\n",
       "    </tr>\n",
       "    <tr>\n",
       "      <th>RXN0553_c</th>\n",
       "      <td>5.873753</td>\n",
       "      <td>-4.569013e-19</td>\n",
       "    </tr>\n",
       "  </tbody>\n",
       "</table>\n",
       "<p>1767 rows × 2 columns</p>\n",
       "</div>"
      ],
      "text/plain": [
       "<Solution 117.921 at 0x24718b5e930>"
      ]
     },
     "execution_count": 15,
     "metadata": {},
     "output_type": "execute_result"
    }
   ],
   "source": [
    "#optimize gapfilled model to make sure it grows\n",
    "f6p_gapfilled.optimize()\n",
    "#assert to optimize.solutions() compared to final model"
   ]
  },
  {
   "cell_type": "markdown",
   "metadata": {},
   "source": [
    "## Run CarveMe gapfill\n",
    "\n",
    "```bash\n",
    "usage: gapfill [-h] -m MEDIA [--mediadb MEDIADB] [--spent-medium SPECIES]\n",
    "               [-u UNIVERSE | --universe-file UNIVERSE_FILE] [-o OUTPUT] [-v]\n",
    "               [--cobra | --fbc2]\n",
    "               INPUTFILE\n",
    "\n",
    "GapFill a metabolic model for a given set of media\n",
    "\n",
    "positional arguments:\n",
    "  INPUTFILE             SBML input file\n",
    "\n",
    "options:\n",
    "  -h, --help            show this help message and exit\n",
    "  -m MEDIA, --media MEDIA\n",
    "                        List of media (comma-separated)\n",
    "  --mediadb MEDIADB     Media database file\n",
    "  --spent-medium SPECIES\n",
    "                        Add spent medium compounds generated from given species (SBML   \n",
    "                        model).\n",
    "  -u UNIVERSE, --universe UNIVERSE\n",
    "                        Pre-built universe model (default: bacteria)\n",
    "  --universe-file UNIVERSE_FILE\n",
    "                        Reaction universe file (SBML format)\n",
    "  -o OUTPUT, --output OUTPUT\n",
    "                        SBML output file\n",
    "  -v, --verbose         Switch to verbose mode\n",
    "  --cobra               Input SBML in old cobra format\n",
    "  --fbc2                Input SBML in sbml-fbc2 format\n",
    "  ```"
   ]
  },
  {
   "cell_type": "code",
   "execution_count": 18,
   "metadata": {},
   "outputs": [
    {
     "name": "stderr",
     "output_type": "stream",
     "text": [
      "C:\\Users\\lint730\\AppData\\Local\\Programs\\Python\\Python312\\Lib\\site-packages\\reframed\\io\\sbml.py:173: UserWarning: Exchange reactions were not detected.\n",
      "  warn(\"Exchange reactions were not detected.\")\n"
     ]
    },
    {
     "name": "stdout",
     "output_type": "stream",
     "text": [
      "Restricted license - for non-production use only - expires 2025-11-24\n"
     ]
    },
    {
     "name": "stderr",
     "output_type": "stream",
     "text": [
      "Traceback (most recent call last):\n",
      "  File \"<frozen runpy>\", line 198, in _run_module_as_main\n",
      "  File \"<frozen runpy>\", line 88, in _run_code\n",
      "  File \"C:\\Users\\lint730\\AppData\\Local\\Programs\\Python\\Python312\\Scripts\\gapfill.exe\\__main__.py\", line 7, in <module>\n",
      "  File \"C:\\Users\\lint730\\AppData\\Local\\Programs\\Python\\Python312\\Lib\\site-packages\\carveme\\cli\\gapfill.py\", line 118, in main\n",
      "    maincall(inputfile=args.input,\n",
      "  File \"C:\\Users\\lint730\\AppData\\Local\\Programs\\Python\\Python312\\Lib\\site-packages\\carveme\\cli\\gapfill.py\", line 64, in maincall\n",
      "    multiGapFill(model, universe_model, media, media_db, max_uptake=max_uptake, inplace=True,\n",
      "  File \"C:\\Users\\lint730\\AppData\\Local\\Programs\\Python\\Python312\\Lib\\site-packages\\carveme\\reconstruction\\gapfilling.py\", line 143, in multiGapFill\n",
      "    gapFill(model, universe, constraints=constraints, min_growth=min_growth,\n",
      "  File \"C:\\Users\\lint730\\AppData\\Local\\Programs\\Python\\Python312\\Lib\\site-packages\\carveme\\reconstruction\\gapfilling.py\", line 78, in gapFill\n",
      "    raise RuntimeError('Failed to gapfill model for medium {}'.format(tag))\n",
      "RuntimeError: Failed to gapfill model for medium Base\n"
     ]
    },
    {
     "ename": "CalledProcessError",
     "evalue": "Command 'b' gapfill -m Base --mediadb ../rhodobacter/data/media/default_media_db.tsv --universe-file ../GEMs/f6p_reactions.xml -o ../GEMs/f6p_gapfilled_model.xml ../GEMs/model_with_f6p_gap.xml\\n'' returned non-zero exit status 1.",
     "output_type": "error",
     "traceback": [
      "\u001b[1;31m---------------------------------------------------------------------------\u001b[0m",
      "\u001b[1;31mCalledProcessError\u001b[0m                        Traceback (most recent call last)",
      "Cell \u001b[1;32mIn[18], line 1\u001b[0m\n\u001b[1;32m----> 1\u001b[0m \u001b[43mget_ipython\u001b[49m\u001b[43m(\u001b[49m\u001b[43m)\u001b[49m\u001b[38;5;241;43m.\u001b[39;49m\u001b[43mrun_cell_magic\u001b[49m\u001b[43m(\u001b[49m\u001b[38;5;124;43m'\u001b[39;49m\u001b[38;5;124;43mbash\u001b[39;49m\u001b[38;5;124;43m'\u001b[39;49m\u001b[43m,\u001b[49m\u001b[43m \u001b[49m\u001b[38;5;124;43m'\u001b[39;49m\u001b[38;5;124;43m'\u001b[39;49m\u001b[43m,\u001b[49m\u001b[43m \u001b[49m\u001b[38;5;124;43m'\u001b[39;49m\u001b[38;5;124;43m gapfill -m Base --mediadb ../rhodobacter/data/media/default_media_db.tsv --universe-file ../GEMs/f6p_reactions.xml -o ../GEMs/f6p_gapfilled_model.xml ../GEMs/model_with_f6p_gap.xml\u001b[39;49m\u001b[38;5;130;43;01m\\n\u001b[39;49;00m\u001b[38;5;124;43m'\u001b[39;49m\u001b[43m)\u001b[49m\n",
      "File \u001b[1;32mc:\\Users\\lint730\\GEM_repos\\Rhodobacter_sphaeroides_GEMs\\concerto\\Lib\\site-packages\\IPython\\core\\interactiveshell.py:2541\u001b[0m, in \u001b[0;36mInteractiveShell.run_cell_magic\u001b[1;34m(self, magic_name, line, cell)\u001b[0m\n\u001b[0;32m   2539\u001b[0m \u001b[38;5;28;01mwith\u001b[39;00m \u001b[38;5;28mself\u001b[39m\u001b[38;5;241m.\u001b[39mbuiltin_trap:\n\u001b[0;32m   2540\u001b[0m     args \u001b[38;5;241m=\u001b[39m (magic_arg_s, cell)\n\u001b[1;32m-> 2541\u001b[0m     result \u001b[38;5;241m=\u001b[39m \u001b[43mfn\u001b[49m\u001b[43m(\u001b[49m\u001b[38;5;241;43m*\u001b[39;49m\u001b[43margs\u001b[49m\u001b[43m,\u001b[49m\u001b[43m \u001b[49m\u001b[38;5;241;43m*\u001b[39;49m\u001b[38;5;241;43m*\u001b[39;49m\u001b[43mkwargs\u001b[49m\u001b[43m)\u001b[49m\n\u001b[0;32m   2543\u001b[0m \u001b[38;5;66;03m# The code below prevents the output from being displayed\u001b[39;00m\n\u001b[0;32m   2544\u001b[0m \u001b[38;5;66;03m# when using magics with decorator @output_can_be_silenced\u001b[39;00m\n\u001b[0;32m   2545\u001b[0m \u001b[38;5;66;03m# when the last Python token in the expression is a ';'.\u001b[39;00m\n\u001b[0;32m   2546\u001b[0m \u001b[38;5;28;01mif\u001b[39;00m \u001b[38;5;28mgetattr\u001b[39m(fn, magic\u001b[38;5;241m.\u001b[39mMAGIC_OUTPUT_CAN_BE_SILENCED, \u001b[38;5;28;01mFalse\u001b[39;00m):\n",
      "File \u001b[1;32mc:\\Users\\lint730\\GEM_repos\\Rhodobacter_sphaeroides_GEMs\\concerto\\Lib\\site-packages\\IPython\\core\\magics\\script.py:155\u001b[0m, in \u001b[0;36mScriptMagics._make_script_magic.<locals>.named_script_magic\u001b[1;34m(line, cell)\u001b[0m\n\u001b[0;32m    153\u001b[0m \u001b[38;5;28;01melse\u001b[39;00m:\n\u001b[0;32m    154\u001b[0m     line \u001b[38;5;241m=\u001b[39m script\n\u001b[1;32m--> 155\u001b[0m \u001b[38;5;28;01mreturn\u001b[39;00m \u001b[38;5;28;43mself\u001b[39;49m\u001b[38;5;241;43m.\u001b[39;49m\u001b[43mshebang\u001b[49m\u001b[43m(\u001b[49m\u001b[43mline\u001b[49m\u001b[43m,\u001b[49m\u001b[43m \u001b[49m\u001b[43mcell\u001b[49m\u001b[43m)\u001b[49m\n",
      "File \u001b[1;32mc:\\Users\\lint730\\GEM_repos\\Rhodobacter_sphaeroides_GEMs\\concerto\\Lib\\site-packages\\IPython\\core\\magics\\script.py:315\u001b[0m, in \u001b[0;36mScriptMagics.shebang\u001b[1;34m(self, line, cell)\u001b[0m\n\u001b[0;32m    310\u001b[0m \u001b[38;5;28;01mif\u001b[39;00m args\u001b[38;5;241m.\u001b[39mraise_error \u001b[38;5;129;01mand\u001b[39;00m p\u001b[38;5;241m.\u001b[39mreturncode \u001b[38;5;241m!=\u001b[39m \u001b[38;5;241m0\u001b[39m:\n\u001b[0;32m    311\u001b[0m     \u001b[38;5;66;03m# If we get here and p.returncode is still None, we must have\u001b[39;00m\n\u001b[0;32m    312\u001b[0m     \u001b[38;5;66;03m# killed it but not yet seen its return code. We don't wait for it,\u001b[39;00m\n\u001b[0;32m    313\u001b[0m     \u001b[38;5;66;03m# in case it's stuck in uninterruptible sleep. -9 = SIGKILL\u001b[39;00m\n\u001b[0;32m    314\u001b[0m     rc \u001b[38;5;241m=\u001b[39m p\u001b[38;5;241m.\u001b[39mreturncode \u001b[38;5;129;01mor\u001b[39;00m \u001b[38;5;241m-\u001b[39m\u001b[38;5;241m9\u001b[39m\n\u001b[1;32m--> 315\u001b[0m     \u001b[38;5;28;01mraise\u001b[39;00m CalledProcessError(rc, cell)\n",
      "\u001b[1;31mCalledProcessError\u001b[0m: Command 'b' gapfill -m Base --mediadb ../rhodobacter/data/media/default_media_db.tsv --universe-file ../GEMs/f6p_reactions.xml -o ../GEMs/f6p_gapfilled_model.xml ../GEMs/model_with_f6p_gap.xml\\n'' returned non-zero exit status 1."
     ]
    }
   ],
   "source": [
    "%%bash\n",
    " gapfill -m Base --mediadb ../rhodobacter/data/media/default_media_db.tsv --universe-file ../GEMs/f6p_reactions.xml -o ../GEMs/f6p_gapfilled_model.xml ../GEMs/model_with_f6p_gap.xml"
   ]
  },
  {
   "cell_type": "code",
   "execution_count": 9,
   "metadata": {},
   "outputs": [
    {
     "data": {
      "text/plain": [
       "0.0"
      ]
     },
     "execution_count": 9,
     "metadata": {},
     "output_type": "execute_result"
    }
   ],
   "source": [
    "model.optimize().objective_value"
   ]
  },
  {
   "cell_type": "code",
   "execution_count": 10,
   "metadata": {},
   "outputs": [
    {
     "ename": "NameError",
     "evalue": "name 'gapfill' is not defined",
     "output_type": "error",
     "traceback": [
      "\u001b[1;31m---------------------------------------------------------------------------\u001b[0m",
      "\u001b[1;31mNameError\u001b[0m                                 Traceback (most recent call last)",
      "Cell \u001b[1;32mIn[10], line 1\u001b[0m\n\u001b[1;32m----> 1\u001b[0m solution \u001b[38;5;241m=\u001b[39m \u001b[43mgapfill\u001b[49m(model, universal, demand_reactions\u001b[38;5;241m=\u001b[39m\u001b[38;5;28;01mFalse\u001b[39;00m)\n\u001b[0;32m      2\u001b[0m \u001b[38;5;28;01mfor\u001b[39;00m reaction \u001b[38;5;129;01min\u001b[39;00m solution[\u001b[38;5;241m0\u001b[39m]:\n\u001b[0;32m      3\u001b[0m     \u001b[38;5;28mprint\u001b[39m(reaction\u001b[38;5;241m.\u001b[39mid)\n",
      "\u001b[1;31mNameError\u001b[0m: name 'gapfill' is not defined"
     ]
    }
   ],
   "source": [
    "solution = gapfill(model, universal, demand_reactions=False)\n",
    "for reaction in solution[0]:\n",
    "    print(reaction.id)"
   ]
  },
  {
   "cell_type": "code",
   "execution_count": 11,
   "metadata": {},
   "outputs": [
    {
     "data": {
      "text/plain": [
       "[<Reaction RXN0046_c at 0x23fa00db080>,\n",
       " <Reaction RXN0343_c at 0x23fa00db050>,\n",
       " <Reaction RXN0345_c at 0x23ffdb61a90>,\n",
       " <Reaction RXN0556_c at 0x23fa0552660>,\n",
       " <Reaction RXN0560_c at 0x23fa028ca10>,\n",
       " <Reaction RXN0416_c at 0x23fa0505c70>,\n",
       " <Reaction RXN0415_c at 0x23fa05057c0>,\n",
       " <Reaction RXN0553_c at 0x23fa04ace90>]"
      ]
     },
     "execution_count": 11,
     "metadata": {},
     "output_type": "execute_result"
    }
   ],
   "source": [
    "universal.reactions\n"
   ]
  },
  {
   "cell_type": "code",
   "execution_count": 12,
   "metadata": {},
   "outputs": [],
   "source": [
    "for metabolite in model.metabolites:\n",
    "    note = metabolite.notes\n",
    "    if type(note) is str:\n",
    "        metabolite.notes = {'seed.id': note}"
   ]
  },
  {
   "cell_type": "code",
   "execution_count": 13,
   "metadata": {},
   "outputs": [],
   "source": [
    "cobra.io.save_json_model(model, \"../GEMs/iRsp1140_opt.json\")\n",
    "cobra.io.write_sbml_model(model, \"../rhodobacter/model_gapfilled.xml\")"
   ]
  },
  {
   "cell_type": "markdown",
   "metadata": {},
   "source": [
    "# reverse glyoxylate shunt (rGS)"
   ]
  },
  {
   "cell_type": "markdown",
   "metadata": {},
   "source": [
    "ppc, added\\\n",
    "mdh: RXN0143_c0, reversible\\\n",
    "mtk, added\\\n",
    "fum: RXN0148_c0, reversible\\\n",
    "frd: RXN0145_c0, reversible\\\n",
    "mcl: RXN0689_c0, reversible\\\n",
    "icl, added\\\n",
    "acn: RXN0147_c0, reversible\\\n",
    "acl, added"
   ]
  },
  {
   "cell_type": "code",
   "execution_count": 4,
   "metadata": {},
   "outputs": [],
   "source": [
    "def add_ppc_reaction(model):\n",
    "    # H2O + Phosphoenolpyruvate + CO2 -> Orthophosphate + Oxaloacetate\n",
    "    reaction = cobra.Reaction('ppc')\n",
    "    reaction.name = 'phosphate:oxaloacetate carboxy-lyase'\n",
    "    reaction.subsystem = 'reverse glyoxylate shunt'\n",
    "    reaction.add_metabolites({\n",
    "        model.metabolites.get_by_id('h2o_c0'): -1.0,\n",
    "        model.metabolites.get_by_id('pep_c0'): -1.0,\n",
    "        model.metabolites.get_by_id('co2_c0'): -1.0, \n",
    "        model.metabolites.get_by_id('pi_c0'): 1.0,\n",
    "        model.metabolites.get_by_id('oaa_c0'): 1.0\n",
    "    })\n",
    "    model.add_reactions([reaction])\n",
    "    return model\n",
    "\n",
    "def add_mtk_reaction(model):\n",
    "    # ATP + (S)-Malate + CoA -> ADP + Orthophosphate + L-Malyl-CoA\n",
    "    # Note: existing reaction RXN0690_c0 can convert L-Malyl-CoA to (S)-Malate + CoA\n",
    "    reaction = cobra.Reaction('mtk')\n",
    "    reaction.name = 'malate thiokinase'\n",
    "    reaction.subsystem = 'reverse glyoxylate shunt'\n",
    "    reaction.add_metabolites({\n",
    "        model.metabolites.get_by_id('atp_c0'): -1.0,\n",
    "        model.metabolites.get_by_id('mal-L_c0'): -1.0,\n",
    "        model.metabolites.get_by_id('coa_c0'): -1.0,\n",
    "        model.metabolites.get_by_id('adp_c0'): 1.0,\n",
    "        model.metabolites.get_by_id('pi_c0'): 1.0,\n",
    "        model.metabolites.get_by_id('malylcoa_c0'): 1.0\n",
    "    })\n",
    "    model.add_reactions([reaction])\n",
    "    return model\n",
    "\n",
    "def add_icl_reaction(model):\n",
    "    # succinate + glyoxylate <=> isocitrate (reversible)\n",
    "    reaction = cobra.Reaction('icl')\n",
    "    reaction.name = 'isocitrate lyase' \n",
    "    reaction.subsystem = 'reverse glyoxylate shunt'\n",
    "    reaction.add_metabolites({\n",
    "        model.metabolites.get_by_id('glx_c0'): -1.0,\n",
    "        model.metabolites.get_by_id('succ_c0'): -1.0,\n",
    "        model.metabolites.get_by_id('icit_c0'): 1.0,\n",
    "    })\n",
    "    model.add_reactions([reaction])\n",
    "    return model\n",
    "\n",
    "def add_acl_reaction(model):\n",
    "    # ATP + Citrate + CoA -> ADP + Orthophosphate + Acetyl-CoA + Oxaloacetate\n",
    "    reaction = cobra.Reaction('acl')\n",
    "    reaction.name = 'acetyl-CoA:oxaloacetate C-acetyltransferase'\n",
    "    reaction.subsystem = 'reverse glyoxylate shunt'\n",
    "    reaction.add_metabolites({\n",
    "        model.metabolites.get_by_id('atp_c0'): -1.0,\n",
    "        model.metabolites.get_by_id('cit_c0'): -1.0,\n",
    "        model.metabolites.get_by_id('coa_c0'): -1.0,\n",
    "        model.metabolites.get_by_id('adp_c0'): 1.0,\n",
    "        model.metabolites.get_by_id('pi_c0'): 1.0,\n",
    "        model.metabolites.get_by_id('accoa_c0'): 1.0,\n",
    "        model.metabolites.get_by_id('oaa_c0'): 1.0\n",
    "    })\n",
    "    model.add_reactions([reaction])\n",
    "    return model\n",
    "\n",
    "def add_rGS_reactions(model):\n",
    "    model = add_ppc_reaction(model)\n",
    "    model = add_mtk_reaction(model)\n",
    "    model = add_icl_reaction(model)\n",
    "    model = add_acl_reaction(model)\n",
    "    return model"
   ]
  },
  {
   "cell_type": "code",
   "execution_count": 5,
   "metadata": {},
   "outputs": [],
   "source": [
    "model_rGS = model.copy()\n",
    "model_rGS = add_rGS_reactions(model_rGS)"
   ]
  },
  {
   "cell_type": "code",
   "execution_count": 6,
   "metadata": {},
   "outputs": [
    {
     "data": {
      "text/html": [
       "\n",
       "        <table>\n",
       "            <tr>\n",
       "                <td><strong>Name</strong></td>\n",
       "                <td>Rhodobacter_sphaeroides_2_4_1_fbamdl_17</td>\n",
       "            </tr><tr>\n",
       "                <td><strong>Memory address</strong></td>\n",
       "                <td>3064e5fc0</td>\n",
       "            </tr><tr>\n",
       "                <td><strong>Number of metabolites</strong></td>\n",
       "                <td>1344</td>\n",
       "            </tr><tr>\n",
       "                <td><strong>Number of reactions</strong></td>\n",
       "                <td>1651</td>\n",
       "            </tr><tr>\n",
       "                <td><strong>Number of genes</strong></td>\n",
       "                <td>1140</td>\n",
       "            </tr><tr>\n",
       "                <td><strong>Number of groups</strong></td>\n",
       "                <td>0</td>\n",
       "            </tr><tr>\n",
       "                <td><strong>Objective expression</strong></td>\n",
       "                <td>1.0*biomass0 - 1.0*biomass0_reverse_9c18d</td>\n",
       "            </tr><tr>\n",
       "                <td><strong>Compartments</strong></td>\n",
       "                <td>Cytosol_0, e0, p0</td>\n",
       "            </tr>\n",
       "          </table>"
      ],
      "text/plain": [
       "<Model Rhodobacter_sphaeroides_2_4_1_fbamdl_17 at 0x3064e5fc0>"
      ]
     },
     "execution_count": 6,
     "metadata": {},
     "output_type": "execute_result"
    }
   ],
   "source": [
    "model_rGS"
   ]
  },
  {
   "cell_type": "code",
   "execution_count": 8,
   "metadata": {},
   "outputs": [],
   "source": [
    "cobra.io.save_json_model(model_rGS, \"../GEMs/iRsp1140_opt_with_rGS.json\")"
   ]
  },
  {
   "cell_type": "markdown",
   "metadata": {},
   "source": [
    "# non-oxidative glycolysis (NOG)"
   ]
  },
  {
   "cell_type": "markdown",
   "metadata": {},
   "source": [
    "fpk, added\\\n",
    "xpk, added\\\n",
    "tkt, RXN0553_c0\\\n",
    "tal, RXN0560_c0\\\n",
    "rpi, RXN0561_c0\\\n",
    "rpe, RXN0559_c0"
   ]
  },
  {
   "cell_type": "code",
   "execution_count": 9,
   "metadata": {},
   "outputs": [],
   "source": [
    "def add_NOG_reactions(model):\n",
    "    # D-Xylulose 5-phosphate + Orthophosphate <=> Acetyl phosphate + D-Glyceraldehyde 3-phosphate + H2O\n",
    "    reaction = cobra.Reaction('xpk')\n",
    "    reaction.name = 'D-xylulose 5-phosphate D-glyceraldehyde-3-phosphate-lyase'\n",
    "    reaction.subsystem = 'non-oxidative glycolysis'\n",
    "    reaction.add_metabolites({\n",
    "        model.metabolites.get_by_id('xu5p-D_c0'): -1.0,\n",
    "        model.metabolites.get_by_id('pi_c0'): -1.0,\n",
    "        model.metabolites.get_by_id('actp_c0'): 1.0,\n",
    "        model.metabolites.get_by_id('g3p_c0'): 1.0,\n",
    "        model.metabolites.get_by_id('h2o_c0'): 1.0\n",
    "    })\n",
    "    model.add_reactions([reaction])\n",
    "\n",
    "    # D-Fructose 6-phosphate + Orthophosphate <=> Acetyl phosphate + D-Erythrose 4-phosphate + H2O\n",
    "    reaction = cobra.Reaction('fpk')\n",
    "    reaction.name = 'D-fructose-6-phosphate D-erythrose-4-phosphate-lyase'\n",
    "    reaction.subsystem = 'non-oxidative glycolysis'\n",
    "    reaction.add_metabolites({\n",
    "        model.metabolites.get_by_id('f6p_c0'): -1.0,\n",
    "        model.metabolites.get_by_id('pi_c0'): -1.0,\n",
    "        model.metabolites.get_by_id('actp_c0'): 1.0,\n",
    "        model.metabolites.get_by_id('e4p_c0'): 1.0,\n",
    "        model.metabolites.get_by_id('h2o_c0'): 1.0\n",
    "    })\n",
    "    model.add_reactions([reaction])\n",
    "    return model"
   ]
  },
  {
   "cell_type": "code",
   "execution_count": 10,
   "metadata": {},
   "outputs": [],
   "source": [
    "model_NOG = model.copy()\n",
    "model_NOG = add_NOG_reactions(model_NOG)"
   ]
  },
  {
   "cell_type": "code",
   "execution_count": 11,
   "metadata": {},
   "outputs": [
    {
     "data": {
      "text/html": [
       "\n",
       "        <table>\n",
       "            <tr>\n",
       "                <td><strong>Name</strong></td>\n",
       "                <td>Rhodobacter_sphaeroides_2_4_1_fbamdl_17</td>\n",
       "            </tr><tr>\n",
       "                <td><strong>Memory address</strong></td>\n",
       "                <td>147351030</td>\n",
       "            </tr><tr>\n",
       "                <td><strong>Number of metabolites</strong></td>\n",
       "                <td>1344</td>\n",
       "            </tr><tr>\n",
       "                <td><strong>Number of reactions</strong></td>\n",
       "                <td>1649</td>\n",
       "            </tr><tr>\n",
       "                <td><strong>Number of genes</strong></td>\n",
       "                <td>1140</td>\n",
       "            </tr><tr>\n",
       "                <td><strong>Number of groups</strong></td>\n",
       "                <td>0</td>\n",
       "            </tr><tr>\n",
       "                <td><strong>Objective expression</strong></td>\n",
       "                <td>1.0*biomass0 - 1.0*biomass0_reverse_9c18d</td>\n",
       "            </tr><tr>\n",
       "                <td><strong>Compartments</strong></td>\n",
       "                <td>Cytosol_0, e0, p0</td>\n",
       "            </tr>\n",
       "          </table>"
      ],
      "text/plain": [
       "<Model Rhodobacter_sphaeroides_2_4_1_fbamdl_17 at 0x147351030>"
      ]
     },
     "execution_count": 11,
     "metadata": {},
     "output_type": "execute_result"
    }
   ],
   "source": [
    "model_NOG"
   ]
  },
  {
   "cell_type": "code",
   "execution_count": 12,
   "metadata": {},
   "outputs": [],
   "source": [
    "cobra.io.save_json_model(model_NOG, \"../GEMs/iRsp1140_opt_with_NOG.json\")"
   ]
  },
  {
   "cell_type": "markdown",
   "metadata": {},
   "source": [
    "# Embden-Parnas-Bifido (EP-Bifido) pathway"
   ]
  },
  {
   "cell_type": "code",
   "execution_count": 13,
   "metadata": {},
   "outputs": [],
   "source": [
    "def add_gnd_reaction(model):\n",
    "    # 6-Phospho-D-gluconate + NADP+ <=> D-Ribulose 5-phosphate + CO2 + NADPH + H+\n",
    "    reaction = cobra.Reaction('gnd')\n",
    "    reaction.name = '6-phospho-D-gluconate:NADP+ 2-oxidoreductase'\n",
    "    reaction.subsystem = 'EP-Bifido pathway'\n",
    "    reaction.add_metabolites({\n",
    "        model.metabolites.get_by_id('6pgc_c0'): -1.0,\n",
    "        model.metabolites.get_by_id('nadp_c0'): -1.0,\n",
    "        model.metabolites.get_by_id('ru5p-D_c0'): 1.0,\n",
    "        model.metabolites.get_by_id('co2_c0'): 1.0,\n",
    "        model.metabolites.get_by_id('nadph_c0'): 1.0,\n",
    "        model.metabolites.get_by_id('h_c0'): 1.0,\n",
    "    })\n",
    "    model.add_reactions([reaction])\n",
    "    return model\n",
    "\n",
    "def add_EP_Bifido_reactions(model):\n",
    "    model = add_NOG_reactions(model)\n",
    "    model = add_gnd_reaction(model)\n",
    "    return model"
   ]
  },
  {
   "cell_type": "code",
   "execution_count": 14,
   "metadata": {},
   "outputs": [],
   "source": [
    "model_EP_Bifido = model.copy()\n",
    "model_EP_Bifido = add_EP_Bifido_reactions(model_EP_Bifido)"
   ]
  },
  {
   "cell_type": "code",
   "execution_count": 15,
   "metadata": {},
   "outputs": [
    {
     "data": {
      "text/html": [
       "\n",
       "        <table>\n",
       "            <tr>\n",
       "                <td><strong>Name</strong></td>\n",
       "                <td>Rhodobacter_sphaeroides_2_4_1_fbamdl_17</td>\n",
       "            </tr><tr>\n",
       "                <td><strong>Memory address</strong></td>\n",
       "                <td>3083bcbb0</td>\n",
       "            </tr><tr>\n",
       "                <td><strong>Number of metabolites</strong></td>\n",
       "                <td>1344</td>\n",
       "            </tr><tr>\n",
       "                <td><strong>Number of reactions</strong></td>\n",
       "                <td>1650</td>\n",
       "            </tr><tr>\n",
       "                <td><strong>Number of genes</strong></td>\n",
       "                <td>1140</td>\n",
       "            </tr><tr>\n",
       "                <td><strong>Number of groups</strong></td>\n",
       "                <td>0</td>\n",
       "            </tr><tr>\n",
       "                <td><strong>Objective expression</strong></td>\n",
       "                <td>1.0*biomass0 - 1.0*biomass0_reverse_9c18d</td>\n",
       "            </tr><tr>\n",
       "                <td><strong>Compartments</strong></td>\n",
       "                <td>Cytosol_0, e0, p0</td>\n",
       "            </tr>\n",
       "          </table>"
      ],
      "text/plain": [
       "<Model Rhodobacter_sphaeroides_2_4_1_fbamdl_17 at 0x3083bcbb0>"
      ]
     },
     "execution_count": 15,
     "metadata": {},
     "output_type": "execute_result"
    }
   ],
   "source": [
    "model_EP_Bifido"
   ]
  },
  {
   "cell_type": "code",
   "execution_count": 16,
   "metadata": {},
   "outputs": [],
   "source": [
    "cobra.io.save_json_model(model_EP_Bifido, \"../GEMs/iRsp1140_opt_with_EP_Bifido.json\")"
   ]
  },
  {
   "cell_type": "markdown",
   "metadata": {},
   "source": [
    "# malyl-CoA-glycerate cylce (MCG)"
   ]
  },
  {
   "cell_type": "markdown",
   "metadata": {},
   "source": [
    "ppc, added\\\n",
    "mdh: RXN0143_c0, reversible\\\n",
    "mtk, added\\\n",
    "mcl: RXN0689_c0, reversible\\\n",
    "gcl, added\\\n",
    "tsr, added\\\n",
    "gk, added\\\n",
    "eno: RXN0420_c0"
   ]
  },
  {
   "cell_type": "code",
   "execution_count": 17,
   "metadata": {},
   "outputs": [],
   "source": [
    "def add_2h3oppan_c0_metabolite(model):\n",
    "    m_2h3oppan_c0 = cobra.Metabolite('2h3oppan_c0', formula='C3H3O4', name='2-Hydroxy-3-oxopropanoate', compartment='c0', charge = -1) #'cpd00843'\n",
    "    model.add_metabolites([m_2h3oppan_c0])\n",
    "    return model\n",
    "\n",
    "def add_gcl_reaction(model):\n",
    "    # 2 Glyoxylate -> 2-Hydroxy-3-oxopropanoate + CO2\n",
    "    reaction = cobra.Reaction('gcl')\n",
    "    reaction.name = 'glyoxylate carboxy-lyase'\n",
    "    reaction.subsystem = 'malyl-CoA-glycerate cylce'\n",
    "    reaction.add_metabolites({\n",
    "        model.metabolites.get_by_id('glx_c0'): -2.0,\n",
    "        model.metabolites.get_by_id('2h3oppan_c0'): 1.0,\n",
    "        model.metabolites.get_by_id('co2_c0'): 1.0,\n",
    "    })\n",
    "    model.add_reactions([reaction])\n",
    "    return model\n",
    "\n",
    "def add_tsr_reaction(model):\n",
    "    # 2-Hydroxy-3-oxopropanoate + NADH + H+ -> D-Glycerate + NAD+\n",
    "    reaction = cobra.Reaction('tsr')\n",
    "    reaction.name = '(R)-glycerate:NAD+ oxidoreductase'\n",
    "    reaction.subsystem = 'malyl-CoA-glycerate cylce'\n",
    "    reaction.add_metabolites({\n",
    "        model.metabolites.get_by_id('2h3oppan_c0'): -1.0,\n",
    "        model.metabolites.get_by_id('nadh_c0'): -1.0,\n",
    "        model.metabolites.get_by_id('h_c0'): -1.0,\n",
    "        model.metabolites.get_by_id('glyc-R_c0'): 1.0,\n",
    "        model.metabolites.get_by_id('nad_c0'): 1.0,\n",
    "    })\n",
    "    model.add_reactions([reaction])\n",
    "    return model\n",
    "\n",
    "def add_gk_reaction(model):\n",
    "    # D-Glycerate + ATP -> 2-Phospho-D-glycerate + ADP\n",
    "    reaction = cobra.Reaction('gk')\n",
    "    reaction.name = 'ATP:(R)-glycerate 2-phosphotransferase'\n",
    "    reaction.subsystem = 'EP-Bifido pathway'\n",
    "    reaction.add_metabolites({\n",
    "        model.metabolites.get_by_id('glyc-R_c0'): -1.0,\n",
    "        model.metabolites.get_by_id('atp_c0'): -1.0,\n",
    "        model.metabolites.get_by_id('2pg_c0'): 1.0,\n",
    "        model.metabolites.get_by_id('adp_c0'): 1.0,\n",
    "    })\n",
    "    model.add_reactions([reaction])\n",
    "    return model\n",
    "\n",
    "def add_MCG_reactions(model):\n",
    "    model = add_ppc_reaction(model)\n",
    "    model = add_mtk_reaction(model)\n",
    "    model = add_2h3oppan_c0_metabolite(model)\n",
    "    model = add_gcl_reaction(model)\n",
    "    model = add_tsr_reaction(model)\n",
    "    model = add_gk_reaction(model)\n",
    "    return model"
   ]
  },
  {
   "cell_type": "code",
   "execution_count": 18,
   "metadata": {},
   "outputs": [],
   "source": [
    "model_MCG = model.copy()\n",
    "model_MCG = add_MCG_reactions(model_MCG)"
   ]
  },
  {
   "cell_type": "code",
   "execution_count": 19,
   "metadata": {},
   "outputs": [
    {
     "data": {
      "text/html": [
       "\n",
       "        <table>\n",
       "            <tr>\n",
       "                <td><strong>Name</strong></td>\n",
       "                <td>Rhodobacter_sphaeroides_2_4_1_fbamdl_17</td>\n",
       "            </tr><tr>\n",
       "                <td><strong>Memory address</strong></td>\n",
       "                <td>308db4850</td>\n",
       "            </tr><tr>\n",
       "                <td><strong>Number of metabolites</strong></td>\n",
       "                <td>1345</td>\n",
       "            </tr><tr>\n",
       "                <td><strong>Number of reactions</strong></td>\n",
       "                <td>1652</td>\n",
       "            </tr><tr>\n",
       "                <td><strong>Number of genes</strong></td>\n",
       "                <td>1140</td>\n",
       "            </tr><tr>\n",
       "                <td><strong>Number of groups</strong></td>\n",
       "                <td>0</td>\n",
       "            </tr><tr>\n",
       "                <td><strong>Objective expression</strong></td>\n",
       "                <td>1.0*biomass0 - 1.0*biomass0_reverse_9c18d</td>\n",
       "            </tr><tr>\n",
       "                <td><strong>Compartments</strong></td>\n",
       "                <td>Cytosol_0, e0, p0</td>\n",
       "            </tr>\n",
       "          </table>"
      ],
      "text/plain": [
       "<Model Rhodobacter_sphaeroides_2_4_1_fbamdl_17 at 0x308db4850>"
      ]
     },
     "execution_count": 19,
     "metadata": {},
     "output_type": "execute_result"
    }
   ],
   "source": [
    "model_MCG"
   ]
  },
  {
   "cell_type": "code",
   "execution_count": 20,
   "metadata": {},
   "outputs": [],
   "source": [
    "cobra.io.save_json_model(model_MCG, \"../GEMs/iRsp1140_opt_with_MCG.json\")"
   ]
  }
 ],
 "metadata": {
  "kernelspec": {
   "display_name": "concerto",
   "language": "python",
   "name": "python3"
  },
  "language_info": {
   "codemirror_mode": {
    "name": "ipython",
    "version": 3
   },
   "file_extension": ".py",
   "mimetype": "text/x-python",
   "name": "python",
   "nbconvert_exporter": "python",
   "pygments_lexer": "ipython3",
   "version": "3.12.4"
  }
 },
 "nbformat": 4,
 "nbformat_minor": 2
}
