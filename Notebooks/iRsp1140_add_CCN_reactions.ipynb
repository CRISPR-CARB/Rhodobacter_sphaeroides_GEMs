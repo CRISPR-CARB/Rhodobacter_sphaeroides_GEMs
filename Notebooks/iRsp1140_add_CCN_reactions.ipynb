{
 "cells": [
  {
   "cell_type": "code",
   "execution_count": 1,
   "metadata": {},
   "outputs": [],
   "source": [
    "import cobra"
   ]
  },
  {
   "cell_type": "code",
   "execution_count": 2,
   "metadata": {},
   "outputs": [],
   "source": [
    "model = cobra.io.load_json_model('../GEMs/iRsp1140_opt.json');"
   ]
  },
  {
   "cell_type": "code",
   "execution_count": 3,
   "metadata": {},
   "outputs": [
    {
     "data": {
      "text/html": [
       "<strong><em>Optimal</em> solution with objective value 122.059</strong><br><div>\n",
       "<style scoped>\n",
       "    .dataframe tbody tr th:only-of-type {\n",
       "        vertical-align: middle;\n",
       "    }\n",
       "\n",
       "    .dataframe tbody tr th {\n",
       "        vertical-align: top;\n",
       "    }\n",
       "\n",
       "    .dataframe thead th {\n",
       "        text-align: right;\n",
       "    }\n",
       "</style>\n",
       "<table border=\"1\" class=\"dataframe\">\n",
       "  <thead>\n",
       "    <tr style=\"text-align: right;\">\n",
       "      <th></th>\n",
       "      <th>fluxes</th>\n",
       "      <th>reduced_costs</th>\n",
       "    </tr>\n",
       "  </thead>\n",
       "  <tbody>\n",
       "    <tr>\n",
       "      <th>RXN0001_c0</th>\n",
       "      <td>-298.604625</td>\n",
       "      <td>-9.926868e-19</td>\n",
       "    </tr>\n",
       "    <tr>\n",
       "      <th>RXN0002_c0</th>\n",
       "      <td>0.000000</td>\n",
       "      <td>-1.111147e-03</td>\n",
       "    </tr>\n",
       "    <tr>\n",
       "      <th>RXN0003_c0</th>\n",
       "      <td>-1000.000000</td>\n",
       "      <td>-1.206389e-02</td>\n",
       "    </tr>\n",
       "    <tr>\n",
       "      <th>RXN0005_c0</th>\n",
       "      <td>4.195156</td>\n",
       "      <td>0.000000e+00</td>\n",
       "    </tr>\n",
       "    <tr>\n",
       "      <th>RXN0006_c0</th>\n",
       "      <td>0.000000</td>\n",
       "      <td>-4.656237e-03</td>\n",
       "    </tr>\n",
       "    <tr>\n",
       "      <th>...</th>\n",
       "      <td>...</td>\n",
       "      <td>...</td>\n",
       "    </tr>\n",
       "    <tr>\n",
       "      <th>EX_cpd11416_c0</th>\n",
       "      <td>122.058656</td>\n",
       "      <td>0.000000e+00</td>\n",
       "    </tr>\n",
       "    <tr>\n",
       "      <th>Biomass_Aero</th>\n",
       "      <td>0.000000</td>\n",
       "      <td>-8.987584e-01</td>\n",
       "    </tr>\n",
       "    <tr>\n",
       "      <th>Biomass_Photo</th>\n",
       "      <td>0.000000</td>\n",
       "      <td>-2.000000e+00</td>\n",
       "    </tr>\n",
       "    <tr>\n",
       "      <th>RXN1826_c0</th>\n",
       "      <td>1.360710</td>\n",
       "      <td>1.194025e-17</td>\n",
       "    </tr>\n",
       "    <tr>\n",
       "      <th>RXN1825_c0</th>\n",
       "      <td>0.000000</td>\n",
       "      <td>-2.754058e-02</td>\n",
       "    </tr>\n",
       "  </tbody>\n",
       "</table>\n",
       "<p>1647 rows × 2 columns</p>\n",
       "</div>"
      ],
      "text/plain": [
       "<Solution 122.059 at 0x2b3527aa930>"
      ]
     },
     "execution_count": 3,
     "metadata": {},
     "output_type": "execute_result"
    }
   ],
   "source": [
    "model.optimize()"
   ]
  },
  {
   "cell_type": "code",
   "execution_count": 4,
   "metadata": {},
   "outputs": [
    {
     "name": "stdout",
     "output_type": "stream",
     "text": [
      "1647\n"
     ]
    }
   ],
   "source": [
    "#familiarize with model summary\n",
    "print(len(model.reactions))"
   ]
  },
  {
   "cell_type": "markdown",
   "metadata": {},
   "source": [
    "# OPTIMIZING MODEL\n"
   ]
  },
  {
   "cell_type": "code",
   "execution_count": 32,
   "metadata": {},
   "outputs": [
    {
     "data": {
      "text/html": [
       "<strong><em>Optimal</em> solution with objective value 122.059</strong><br><div>\n",
       "<style scoped>\n",
       "    .dataframe tbody tr th:only-of-type {\n",
       "        vertical-align: middle;\n",
       "    }\n",
       "\n",
       "    .dataframe tbody tr th {\n",
       "        vertical-align: top;\n",
       "    }\n",
       "\n",
       "    .dataframe thead th {\n",
       "        text-align: right;\n",
       "    }\n",
       "</style>\n",
       "<table border=\"1\" class=\"dataframe\">\n",
       "  <thead>\n",
       "    <tr style=\"text-align: right;\">\n",
       "      <th></th>\n",
       "      <th>fluxes</th>\n",
       "      <th>reduced_costs</th>\n",
       "    </tr>\n",
       "  </thead>\n",
       "  <tbody>\n",
       "    <tr>\n",
       "      <th>RXN0001_c0</th>\n",
       "      <td>-298.604625</td>\n",
       "      <td>9.926868e-19</td>\n",
       "    </tr>\n",
       "    <tr>\n",
       "      <th>RXN0002_c0</th>\n",
       "      <td>0.000000</td>\n",
       "      <td>-1.111147e-03</td>\n",
       "    </tr>\n",
       "    <tr>\n",
       "      <th>RXN0003_c0</th>\n",
       "      <td>-1000.000000</td>\n",
       "      <td>-1.206389e-02</td>\n",
       "    </tr>\n",
       "    <tr>\n",
       "      <th>RXN0005_c0</th>\n",
       "      <td>4.195156</td>\n",
       "      <td>0.000000e+00</td>\n",
       "    </tr>\n",
       "    <tr>\n",
       "      <th>RXN0006_c0</th>\n",
       "      <td>0.000000</td>\n",
       "      <td>-4.656237e-03</td>\n",
       "    </tr>\n",
       "    <tr>\n",
       "      <th>...</th>\n",
       "      <td>...</td>\n",
       "      <td>...</td>\n",
       "    </tr>\n",
       "    <tr>\n",
       "      <th>EX_cpd11416_c0</th>\n",
       "      <td>122.058656</td>\n",
       "      <td>0.000000e+00</td>\n",
       "    </tr>\n",
       "    <tr>\n",
       "      <th>Biomass_Aero</th>\n",
       "      <td>0.000000</td>\n",
       "      <td>-8.987584e-01</td>\n",
       "    </tr>\n",
       "    <tr>\n",
       "      <th>Biomass_Photo</th>\n",
       "      <td>0.000000</td>\n",
       "      <td>-2.000000e+00</td>\n",
       "    </tr>\n",
       "    <tr>\n",
       "      <th>RXN1826_c0</th>\n",
       "      <td>1.360710</td>\n",
       "      <td>1.102177e-17</td>\n",
       "    </tr>\n",
       "    <tr>\n",
       "      <th>RXN1825_c0</th>\n",
       "      <td>0.000000</td>\n",
       "      <td>-2.754058e-02</td>\n",
       "    </tr>\n",
       "  </tbody>\n",
       "</table>\n",
       "<p>1647 rows × 2 columns</p>\n",
       "</div>"
      ],
      "text/plain": [
       "<Solution 122.059 at 0x2b318e86a20>"
      ]
     },
     "execution_count": 32,
     "metadata": {},
     "output_type": "execute_result"
    }
   ],
   "source": [
    "from cobra.io import load_model\n",
    "from cobra.flux_analysis import gapfill\n",
    "model = cobra.io.read_sbml_model('../GEMs/iRsp1140_opt_compartment_updated.xml')\n",
    "model.optimize()"
   ]
  },
  {
   "cell_type": "code",
   "execution_count": 34,
   "metadata": {},
   "outputs": [
    {
     "data": {
      "text/plain": [
       "frozenset({<Reaction RXN0046_c0 at 0x2b3199e1520>,\n",
       "           <Reaction RXN0343_c0 at 0x2b319aabda0>,\n",
       "           <Reaction RXN0345_c0 at 0x2b319aabdd0>,\n",
       "           <Reaction RXN0415_c0 at 0x2b319b1cb90>,\n",
       "           <Reaction RXN0416_c0 at 0x2b319add490>,\n",
       "           <Reaction RXN0553_c0 at 0x2b319b9f620>,\n",
       "           <Reaction RXN0556_c0 at 0x2b319b9f980>,\n",
       "           <Reaction RXN0560_c0 at 0x2b319b9fe60>})"
      ]
     },
     "execution_count": 34,
     "metadata": {},
     "output_type": "execute_result"
    }
   ],
   "source": [
    "model.metabolites.f6p_c.reactions"
   ]
  },
  {
   "cell_type": "code",
   "execution_count": 35,
   "metadata": {},
   "outputs": [],
   "source": [
    "import cobra\n",
    "universal = cobra.Model(\"universal_reactions\")\n",
    "for i in [i.id for i in model.metabolites.f6p_c.reactions]:\n",
    "    reaction = model.reactions.get_by_id(i)\n",
    "    universal.add_reactions([reaction.copy()])\n",
    "    model.remove_reactions([reaction])"
   ]
  },
  {
   "cell_type": "code",
   "execution_count": 36,
   "metadata": {},
   "outputs": [
    {
     "data": {
      "text/plain": [
       "0.0"
      ]
     },
     "execution_count": 36,
     "metadata": {},
     "output_type": "execute_result"
    }
   ],
   "source": [
    "model.optimize().objective_value"
   ]
  },
  {
   "cell_type": "code",
   "execution_count": 37,
   "metadata": {},
   "outputs": [
    {
     "name": "stdout",
     "output_type": "stream",
     "text": [
      "RXN0560_c0\n",
      "RXN0345_c0\n"
     ]
    }
   ],
   "source": [
    "solution = gapfill(model, universal, demand_reactions=False)\n",
    "for reaction in solution[0]:\n",
    "    print(reaction.id)"
   ]
  },
  {
   "cell_type": "code",
   "execution_count": 24,
   "metadata": {},
   "outputs": [
    {
     "data": {
      "text/plain": [
       "[]"
      ]
     },
     "execution_count": 24,
     "metadata": {},
     "output_type": "execute_result"
    }
   ],
   "source": [
    "universal.reactions\n"
   ]
  },
  {
   "cell_type": "code",
   "execution_count": 17,
   "metadata": {},
   "outputs": [],
   "source": [
    "for metabolite in model.metabolites:\n",
    "    note = metabolite.notes\n",
    "    if type(note) is str:\n",
    "        metabolite.notes = {'seed.id': note}"
   ]
  },
  {
   "cell_type": "code",
   "execution_count": 18,
   "metadata": {},
   "outputs": [],
   "source": [
    "cobra.io.save_json_model(model, \"../GEMs/iRsp1140_opt.json\")\n",
    "cobra.io.write_sbml_model(model, \"../rhodobacter/model_gapfilled.xml\")"
   ]
  },
  {
   "cell_type": "markdown",
   "metadata": {},
   "source": [
    "# reverse glyoxylate shunt (rGS)"
   ]
  },
  {
   "cell_type": "markdown",
   "metadata": {},
   "source": [
    "ppc, added\\\n",
    "mdh: RXN0143_c0, reversible\\\n",
    "mtk, added\\\n",
    "fum: RXN0148_c0, reversible\\\n",
    "frd: RXN0145_c0, reversible\\\n",
    "mcl: RXN0689_c0, reversible\\\n",
    "icl, added\\\n",
    "acn: RXN0147_c0, reversible\\\n",
    "acl, added"
   ]
  },
  {
   "cell_type": "code",
   "execution_count": 4,
   "metadata": {},
   "outputs": [],
   "source": [
    "def add_ppc_reaction(model):\n",
    "    # H2O + Phosphoenolpyruvate + CO2 -> Orthophosphate + Oxaloacetate\n",
    "    reaction = cobra.Reaction('ppc')\n",
    "    reaction.name = 'phosphate:oxaloacetate carboxy-lyase'\n",
    "    reaction.subsystem = 'reverse glyoxylate shunt'\n",
    "    reaction.add_metabolites({\n",
    "        model.metabolites.get_by_id('h2o_c0'): -1.0,\n",
    "        model.metabolites.get_by_id('pep_c0'): -1.0,\n",
    "        model.metabolites.get_by_id('co2_c0'): -1.0, \n",
    "        model.metabolites.get_by_id('pi_c0'): 1.0,\n",
    "        model.metabolites.get_by_id('oaa_c0'): 1.0\n",
    "    })\n",
    "    model.add_reactions([reaction])\n",
    "    return model\n",
    "\n",
    "def add_mtk_reaction(model):\n",
    "    # ATP + (S)-Malate + CoA -> ADP + Orthophosphate + L-Malyl-CoA\n",
    "    # Note: existing reaction RXN0690_c0 can convert L-Malyl-CoA to (S)-Malate + CoA\n",
    "    reaction = cobra.Reaction('mtk')\n",
    "    reaction.name = 'malate thiokinase'\n",
    "    reaction.subsystem = 'reverse glyoxylate shunt'\n",
    "    reaction.add_metabolites({\n",
    "        model.metabolites.get_by_id('atp_c0'): -1.0,\n",
    "        model.metabolites.get_by_id('mal-L_c0'): -1.0,\n",
    "        model.metabolites.get_by_id('coa_c0'): -1.0,\n",
    "        model.metabolites.get_by_id('adp_c0'): 1.0,\n",
    "        model.metabolites.get_by_id('pi_c0'): 1.0,\n",
    "        model.metabolites.get_by_id('malylcoa_c0'): 1.0\n",
    "    })\n",
    "    model.add_reactions([reaction])\n",
    "    return model\n",
    "\n",
    "def add_icl_reaction(model):\n",
    "    # succinate + glyoxylate <=> isocitrate (reversible)\n",
    "    reaction = cobra.Reaction('icl')\n",
    "    reaction.name = 'isocitrate lyase' \n",
    "    reaction.subsystem = 'reverse glyoxylate shunt'\n",
    "    reaction.add_metabolites({\n",
    "        model.metabolites.get_by_id('glx_c0'): -1.0,\n",
    "        model.metabolites.get_by_id('succ_c0'): -1.0,\n",
    "        model.metabolites.get_by_id('icit_c0'): 1.0,\n",
    "    })\n",
    "    model.add_reactions([reaction])\n",
    "    return model\n",
    "\n",
    "def add_acl_reaction(model):\n",
    "    # ATP + Citrate + CoA -> ADP + Orthophosphate + Acetyl-CoA + Oxaloacetate\n",
    "    reaction = cobra.Reaction('acl')\n",
    "    reaction.name = 'acetyl-CoA:oxaloacetate C-acetyltransferase'\n",
    "    reaction.subsystem = 'reverse glyoxylate shunt'\n",
    "    reaction.add_metabolites({\n",
    "        model.metabolites.get_by_id('atp_c0'): -1.0,\n",
    "        model.metabolites.get_by_id('cit_c0'): -1.0,\n",
    "        model.metabolites.get_by_id('coa_c0'): -1.0,\n",
    "        model.metabolites.get_by_id('adp_c0'): 1.0,\n",
    "        model.metabolites.get_by_id('pi_c0'): 1.0,\n",
    "        model.metabolites.get_by_id('accoa_c0'): 1.0,\n",
    "        model.metabolites.get_by_id('oaa_c0'): 1.0\n",
    "    })\n",
    "    model.add_reactions([reaction])\n",
    "    return model\n",
    "\n",
    "def add_rGS_reactions(model):\n",
    "    model = add_ppc_reaction(model)\n",
    "    model = add_mtk_reaction(model)\n",
    "    model = add_icl_reaction(model)\n",
    "    model = add_acl_reaction(model)\n",
    "    return model"
   ]
  },
  {
   "cell_type": "code",
   "execution_count": 5,
   "metadata": {},
   "outputs": [],
   "source": [
    "model_rGS = model.copy()\n",
    "model_rGS = add_rGS_reactions(model_rGS)"
   ]
  },
  {
   "cell_type": "code",
   "execution_count": 6,
   "metadata": {},
   "outputs": [
    {
     "data": {
      "text/html": [
       "\n",
       "        <table>\n",
       "            <tr>\n",
       "                <td><strong>Name</strong></td>\n",
       "                <td>Rhodobacter_sphaeroides_2_4_1_fbamdl_17</td>\n",
       "            </tr><tr>\n",
       "                <td><strong>Memory address</strong></td>\n",
       "                <td>3064e5fc0</td>\n",
       "            </tr><tr>\n",
       "                <td><strong>Number of metabolites</strong></td>\n",
       "                <td>1344</td>\n",
       "            </tr><tr>\n",
       "                <td><strong>Number of reactions</strong></td>\n",
       "                <td>1651</td>\n",
       "            </tr><tr>\n",
       "                <td><strong>Number of genes</strong></td>\n",
       "                <td>1140</td>\n",
       "            </tr><tr>\n",
       "                <td><strong>Number of groups</strong></td>\n",
       "                <td>0</td>\n",
       "            </tr><tr>\n",
       "                <td><strong>Objective expression</strong></td>\n",
       "                <td>1.0*biomass0 - 1.0*biomass0_reverse_9c18d</td>\n",
       "            </tr><tr>\n",
       "                <td><strong>Compartments</strong></td>\n",
       "                <td>Cytosol_0, e0, p0</td>\n",
       "            </tr>\n",
       "          </table>"
      ],
      "text/plain": [
       "<Model Rhodobacter_sphaeroides_2_4_1_fbamdl_17 at 0x3064e5fc0>"
      ]
     },
     "execution_count": 6,
     "metadata": {},
     "output_type": "execute_result"
    }
   ],
   "source": [
    "model_rGS"
   ]
  },
  {
   "cell_type": "code",
   "execution_count": 8,
   "metadata": {},
   "outputs": [],
   "source": [
    "cobra.io.save_json_model(model_rGS, \"../GEMs/iRsp1140_opt_with_rGS.json\")"
   ]
  },
  {
   "cell_type": "markdown",
   "metadata": {},
   "source": [
    "# non-oxidative glycolysis (NOG)"
   ]
  },
  {
   "cell_type": "markdown",
   "metadata": {},
   "source": [
    "fpk, added\\\n",
    "xpk, added\\\n",
    "tkt, RXN0553_c0\\\n",
    "tal, RXN0560_c0\\\n",
    "rpi, RXN0561_c0\\\n",
    "rpe, RXN0559_c0"
   ]
  },
  {
   "cell_type": "code",
   "execution_count": 9,
   "metadata": {},
   "outputs": [],
   "source": [
    "def add_NOG_reactions(model):\n",
    "    # D-Xylulose 5-phosphate + Orthophosphate <=> Acetyl phosphate + D-Glyceraldehyde 3-phosphate + H2O\n",
    "    reaction = cobra.Reaction('xpk')\n",
    "    reaction.name = 'D-xylulose 5-phosphate D-glyceraldehyde-3-phosphate-lyase'\n",
    "    reaction.subsystem = 'non-oxidative glycolysis'\n",
    "    reaction.add_metabolites({\n",
    "        model.metabolites.get_by_id('xu5p-D_c0'): -1.0,\n",
    "        model.metabolites.get_by_id('pi_c0'): -1.0,\n",
    "        model.metabolites.get_by_id('actp_c0'): 1.0,\n",
    "        model.metabolites.get_by_id('g3p_c0'): 1.0,\n",
    "        model.metabolites.get_by_id('h2o_c0'): 1.0\n",
    "    })\n",
    "    model.add_reactions([reaction])\n",
    "\n",
    "    # D-Fructose 6-phosphate + Orthophosphate <=> Acetyl phosphate + D-Erythrose 4-phosphate + H2O\n",
    "    reaction = cobra.Reaction('fpk')\n",
    "    reaction.name = 'D-fructose-6-phosphate D-erythrose-4-phosphate-lyase'\n",
    "    reaction.subsystem = 'non-oxidative glycolysis'\n",
    "    reaction.add_metabolites({\n",
    "        model.metabolites.get_by_id('f6p_c0'): -1.0,\n",
    "        model.metabolites.get_by_id('pi_c0'): -1.0,\n",
    "        model.metabolites.get_by_id('actp_c0'): 1.0,\n",
    "        model.metabolites.get_by_id('e4p_c0'): 1.0,\n",
    "        model.metabolites.get_by_id('h2o_c0'): 1.0\n",
    "    })\n",
    "    model.add_reactions([reaction])\n",
    "    return model"
   ]
  },
  {
   "cell_type": "code",
   "execution_count": 10,
   "metadata": {},
   "outputs": [],
   "source": [
    "model_NOG = model.copy()\n",
    "model_NOG = add_NOG_reactions(model_NOG)"
   ]
  },
  {
   "cell_type": "code",
   "execution_count": 11,
   "metadata": {},
   "outputs": [
    {
     "data": {
      "text/html": [
       "\n",
       "        <table>\n",
       "            <tr>\n",
       "                <td><strong>Name</strong></td>\n",
       "                <td>Rhodobacter_sphaeroides_2_4_1_fbamdl_17</td>\n",
       "            </tr><tr>\n",
       "                <td><strong>Memory address</strong></td>\n",
       "                <td>147351030</td>\n",
       "            </tr><tr>\n",
       "                <td><strong>Number of metabolites</strong></td>\n",
       "                <td>1344</td>\n",
       "            </tr><tr>\n",
       "                <td><strong>Number of reactions</strong></td>\n",
       "                <td>1649</td>\n",
       "            </tr><tr>\n",
       "                <td><strong>Number of genes</strong></td>\n",
       "                <td>1140</td>\n",
       "            </tr><tr>\n",
       "                <td><strong>Number of groups</strong></td>\n",
       "                <td>0</td>\n",
       "            </tr><tr>\n",
       "                <td><strong>Objective expression</strong></td>\n",
       "                <td>1.0*biomass0 - 1.0*biomass0_reverse_9c18d</td>\n",
       "            </tr><tr>\n",
       "                <td><strong>Compartments</strong></td>\n",
       "                <td>Cytosol_0, e0, p0</td>\n",
       "            </tr>\n",
       "          </table>"
      ],
      "text/plain": [
       "<Model Rhodobacter_sphaeroides_2_4_1_fbamdl_17 at 0x147351030>"
      ]
     },
     "execution_count": 11,
     "metadata": {},
     "output_type": "execute_result"
    }
   ],
   "source": [
    "model_NOG"
   ]
  },
  {
   "cell_type": "code",
   "execution_count": 12,
   "metadata": {},
   "outputs": [],
   "source": [
    "cobra.io.save_json_model(model_NOG, \"../GEMs/iRsp1140_opt_with_NOG.json\")"
   ]
  },
  {
   "cell_type": "markdown",
   "metadata": {},
   "source": [
    "# Embden-Parnas-Bifido (EP-Bifido) pathway"
   ]
  },
  {
   "cell_type": "code",
   "execution_count": 13,
   "metadata": {},
   "outputs": [],
   "source": [
    "def add_gnd_reaction(model):\n",
    "    # 6-Phospho-D-gluconate + NADP+ <=> D-Ribulose 5-phosphate + CO2 + NADPH + H+\n",
    "    reaction = cobra.Reaction('gnd')\n",
    "    reaction.name = '6-phospho-D-gluconate:NADP+ 2-oxidoreductase'\n",
    "    reaction.subsystem = 'EP-Bifido pathway'\n",
    "    reaction.add_metabolites({\n",
    "        model.metabolites.get_by_id('6pgc_c0'): -1.0,\n",
    "        model.metabolites.get_by_id('nadp_c0'): -1.0,\n",
    "        model.metabolites.get_by_id('ru5p-D_c0'): 1.0,\n",
    "        model.metabolites.get_by_id('co2_c0'): 1.0,\n",
    "        model.metabolites.get_by_id('nadph_c0'): 1.0,\n",
    "        model.metabolites.get_by_id('h_c0'): 1.0,\n",
    "    })\n",
    "    model.add_reactions([reaction])\n",
    "    return model\n",
    "\n",
    "def add_EP_Bifido_reactions(model):\n",
    "    model = add_NOG_reactions(model)\n",
    "    model = add_gnd_reaction(model)\n",
    "    return model"
   ]
  },
  {
   "cell_type": "code",
   "execution_count": 14,
   "metadata": {},
   "outputs": [],
   "source": [
    "model_EP_Bifido = model.copy()\n",
    "model_EP_Bifido = add_EP_Bifido_reactions(model_EP_Bifido)"
   ]
  },
  {
   "cell_type": "code",
   "execution_count": 15,
   "metadata": {},
   "outputs": [
    {
     "data": {
      "text/html": [
       "\n",
       "        <table>\n",
       "            <tr>\n",
       "                <td><strong>Name</strong></td>\n",
       "                <td>Rhodobacter_sphaeroides_2_4_1_fbamdl_17</td>\n",
       "            </tr><tr>\n",
       "                <td><strong>Memory address</strong></td>\n",
       "                <td>3083bcbb0</td>\n",
       "            </tr><tr>\n",
       "                <td><strong>Number of metabolites</strong></td>\n",
       "                <td>1344</td>\n",
       "            </tr><tr>\n",
       "                <td><strong>Number of reactions</strong></td>\n",
       "                <td>1650</td>\n",
       "            </tr><tr>\n",
       "                <td><strong>Number of genes</strong></td>\n",
       "                <td>1140</td>\n",
       "            </tr><tr>\n",
       "                <td><strong>Number of groups</strong></td>\n",
       "                <td>0</td>\n",
       "            </tr><tr>\n",
       "                <td><strong>Objective expression</strong></td>\n",
       "                <td>1.0*biomass0 - 1.0*biomass0_reverse_9c18d</td>\n",
       "            </tr><tr>\n",
       "                <td><strong>Compartments</strong></td>\n",
       "                <td>Cytosol_0, e0, p0</td>\n",
       "            </tr>\n",
       "          </table>"
      ],
      "text/plain": [
       "<Model Rhodobacter_sphaeroides_2_4_1_fbamdl_17 at 0x3083bcbb0>"
      ]
     },
     "execution_count": 15,
     "metadata": {},
     "output_type": "execute_result"
    }
   ],
   "source": [
    "model_EP_Bifido"
   ]
  },
  {
   "cell_type": "code",
   "execution_count": 16,
   "metadata": {},
   "outputs": [],
   "source": [
    "cobra.io.save_json_model(model_EP_Bifido, \"../GEMs/iRsp1140_opt_with_EP_Bifido.json\")"
   ]
  },
  {
   "cell_type": "markdown",
   "metadata": {},
   "source": [
    "# malyl-CoA-glycerate cylce (MCG)"
   ]
  },
  {
   "cell_type": "markdown",
   "metadata": {},
   "source": [
    "ppc, added\\\n",
    "mdh: RXN0143_c0, reversible\\\n",
    "mtk, added\\\n",
    "mcl: RXN0689_c0, reversible\\\n",
    "gcl, added\\\n",
    "tsr, added\\\n",
    "gk, added\\\n",
    "eno: RXN0420_c0"
   ]
  },
  {
   "cell_type": "code",
   "execution_count": 17,
   "metadata": {},
   "outputs": [],
   "source": [
    "def add_2h3oppan_c0_metabolite(model):\n",
    "    m_2h3oppan_c0 = cobra.Metabolite('2h3oppan_c0', formula='C3H3O4', name='2-Hydroxy-3-oxopropanoate', compartment='c0', charge = -1) #'cpd00843'\n",
    "    model.add_metabolites([m_2h3oppan_c0])\n",
    "    return model\n",
    "\n",
    "def add_gcl_reaction(model):\n",
    "    # 2 Glyoxylate -> 2-Hydroxy-3-oxopropanoate + CO2\n",
    "    reaction = cobra.Reaction('gcl')\n",
    "    reaction.name = 'glyoxylate carboxy-lyase'\n",
    "    reaction.subsystem = 'malyl-CoA-glycerate cylce'\n",
    "    reaction.add_metabolites({\n",
    "        model.metabolites.get_by_id('glx_c0'): -2.0,\n",
    "        model.metabolites.get_by_id('2h3oppan_c0'): 1.0,\n",
    "        model.metabolites.get_by_id('co2_c0'): 1.0,\n",
    "    })\n",
    "    model.add_reactions([reaction])\n",
    "    return model\n",
    "\n",
    "def add_tsr_reaction(model):\n",
    "    # 2-Hydroxy-3-oxopropanoate + NADH + H+ -> D-Glycerate + NAD+\n",
    "    reaction = cobra.Reaction('tsr')\n",
    "    reaction.name = '(R)-glycerate:NAD+ oxidoreductase'\n",
    "    reaction.subsystem = 'malyl-CoA-glycerate cylce'\n",
    "    reaction.add_metabolites({\n",
    "        model.metabolites.get_by_id('2h3oppan_c0'): -1.0,\n",
    "        model.metabolites.get_by_id('nadh_c0'): -1.0,\n",
    "        model.metabolites.get_by_id('h_c0'): -1.0,\n",
    "        model.metabolites.get_by_id('glyc-R_c0'): 1.0,\n",
    "        model.metabolites.get_by_id('nad_c0'): 1.0,\n",
    "    })\n",
    "    model.add_reactions([reaction])\n",
    "    return model\n",
    "\n",
    "def add_gk_reaction(model):\n",
    "    # D-Glycerate + ATP -> 2-Phospho-D-glycerate + ADP\n",
    "    reaction = cobra.Reaction('gk')\n",
    "    reaction.name = 'ATP:(R)-glycerate 2-phosphotransferase'\n",
    "    reaction.subsystem = 'EP-Bifido pathway'\n",
    "    reaction.add_metabolites({\n",
    "        model.metabolites.get_by_id('glyc-R_c0'): -1.0,\n",
    "        model.metabolites.get_by_id('atp_c0'): -1.0,\n",
    "        model.metabolites.get_by_id('2pg_c0'): 1.0,\n",
    "        model.metabolites.get_by_id('adp_c0'): 1.0,\n",
    "    })\n",
    "    model.add_reactions([reaction])\n",
    "    return model\n",
    "\n",
    "def add_MCG_reactions(model):\n",
    "    model = add_ppc_reaction(model)\n",
    "    model = add_mtk_reaction(model)\n",
    "    model = add_2h3oppan_c0_metabolite(model)\n",
    "    model = add_gcl_reaction(model)\n",
    "    model = add_tsr_reaction(model)\n",
    "    model = add_gk_reaction(model)\n",
    "    return model"
   ]
  },
  {
   "cell_type": "code",
   "execution_count": 18,
   "metadata": {},
   "outputs": [],
   "source": [
    "model_MCG = model.copy()\n",
    "model_MCG = add_MCG_reactions(model_MCG)"
   ]
  },
  {
   "cell_type": "code",
   "execution_count": 19,
   "metadata": {},
   "outputs": [
    {
     "data": {
      "text/html": [
       "\n",
       "        <table>\n",
       "            <tr>\n",
       "                <td><strong>Name</strong></td>\n",
       "                <td>Rhodobacter_sphaeroides_2_4_1_fbamdl_17</td>\n",
       "            </tr><tr>\n",
       "                <td><strong>Memory address</strong></td>\n",
       "                <td>308db4850</td>\n",
       "            </tr><tr>\n",
       "                <td><strong>Number of metabolites</strong></td>\n",
       "                <td>1345</td>\n",
       "            </tr><tr>\n",
       "                <td><strong>Number of reactions</strong></td>\n",
       "                <td>1652</td>\n",
       "            </tr><tr>\n",
       "                <td><strong>Number of genes</strong></td>\n",
       "                <td>1140</td>\n",
       "            </tr><tr>\n",
       "                <td><strong>Number of groups</strong></td>\n",
       "                <td>0</td>\n",
       "            </tr><tr>\n",
       "                <td><strong>Objective expression</strong></td>\n",
       "                <td>1.0*biomass0 - 1.0*biomass0_reverse_9c18d</td>\n",
       "            </tr><tr>\n",
       "                <td><strong>Compartments</strong></td>\n",
       "                <td>Cytosol_0, e0, p0</td>\n",
       "            </tr>\n",
       "          </table>"
      ],
      "text/plain": [
       "<Model Rhodobacter_sphaeroides_2_4_1_fbamdl_17 at 0x308db4850>"
      ]
     },
     "execution_count": 19,
     "metadata": {},
     "output_type": "execute_result"
    }
   ],
   "source": [
    "model_MCG"
   ]
  },
  {
   "cell_type": "code",
   "execution_count": 20,
   "metadata": {},
   "outputs": [],
   "source": [
    "cobra.io.save_json_model(model_MCG, \"../GEMs/iRsp1140_opt_with_MCG.json\")"
   ]
  }
 ],
 "metadata": {
  "kernelspec": {
   "display_name": "concerto",
   "language": "python",
   "name": "python3"
  },
  "language_info": {
   "codemirror_mode": {
    "name": "ipython",
    "version": 3
   },
   "file_extension": ".py",
   "mimetype": "text/x-python",
   "name": "python",
   "nbconvert_exporter": "python",
   "pygments_lexer": "ipython3",
   "version": "3.12.4"
  }
 },
 "nbformat": 4,
 "nbformat_minor": 2
}
