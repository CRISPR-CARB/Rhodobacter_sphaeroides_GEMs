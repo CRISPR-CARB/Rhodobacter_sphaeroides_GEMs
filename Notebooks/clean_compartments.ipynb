{
 "cells": [
  {
   "cell_type": "code",
   "execution_count": null,
   "metadata": {},
   "outputs": [],
   "source": [
    "def clean_compartments(model):\n",
    "    \"\"\"change compartment names. \n",
    "\n",
    "    from _c0 and _e0 to _c and _e,\n",
    "    ref github issue #8\"\"\"\n",
    "\n",
    "for compartment in ('.//compartment'):\n",
    "    if compartment.get('id').endswith('c0') or compartment.get('id').endswith('e0'):\n",
    "            compartment.set('id', compartment.get('id')[:-1])\n",
    "    if compartment.get('name').endswith('c0') or compartment.get('name').endswith('e0'):\n",
    "            compartment.set('name', compartment.get('name')[:-1])\n",
    "    \n",
    "for species in ('.//species'):\n",
    "    if species.get('compartment').endswith('c0') or species.get('compartment').endswith('e0'):\n",
    "            species.set('compartment', species.get('compartment')[:-1])\n",
    "    \n",
    "for species_ref in ('.//speciesReference'):\n",
    "    if species_ref.get('species').endswith('c0') or species_ref.get('species').endswith('e0'):\n",
    "            species_ref.set('species', species_ref.get('species')[:-1])\n",
    "    \n",
    "for reaction in ('.//reaction'):\n",
    "    if reaction.get('id').endswith('c0') or reaction.get('id').endswith('e0'):\n",
    "            reaction.set('id', reaction.get('id')[:-1])\n",
    "\n",
    "\n",
    "# usage in update_model.py\n",
    "#  def update_model():\n",
    "    model = update_1(starting_model)\n",
    "    model = clean_compartments(model)\n",
    "    model = add_custom_plate_exchanges(model)\n",
    "    write_model(model)"
   ]
  }
 ],
 "metadata": {
  "kernelspec": {
   "display_name": "concerto",
   "language": "python",
   "name": "python3"
  },
  "language_info": {
   "name": "python",
   "version": "3.12.4"
  }
 },
 "nbformat": 4,
 "nbformat_minor": 2
}
